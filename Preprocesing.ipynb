{
 "cells": [
  {
   "cell_type": "markdown",
   "id": "f12332a3",
   "metadata": {},
   "source": [
    "## Preprocessing pipeline for social media data\n",
    "\n",
    "### TEXT NORMALIZATION\n",
    "Text normalization is a possible solution for overcoming or reducing linguistic noise. The task can be approached in two stages: first, the identification of orthographic errors in an input text, and second, the correction of these errors. Normalization approaches typically include a dictio- nary of known correctly spelled terms, and detects in-vocabulary and out-of-vocabulary (OOV) terms with respect to this dictionary. The normalization can be basic or more advanced. Basic normalization deals with the errors detected at the POS tagging stage, such as unknown words, misspelled words, etc. Advanced normalization is more flexible, taking a lightly supervised au- tomatic approach trained on an external dataset (annotated with short forms vs. their equivalent long or corrected forms)."
   ]
  },
  {
   "cell_type": "code",
   "execution_count": 1,
   "id": "0fb9351e",
   "metadata": {},
   "outputs": [],
   "source": [
    "import sys"
   ]
  },
  {
   "cell_type": "code",
   "execution_count": 2,
   "id": "e947d69e",
   "metadata": {},
   "outputs": [
    {
     "data": {
      "text/plain": [
       "False"
      ]
     },
     "execution_count": 2,
     "metadata": {},
     "output_type": "execute_result"
    }
   ],
   "source": [
    "sys.prefix == sys.base_prefix "
   ]
  },
  {
   "cell_type": "code",
   "execution_count": 17,
   "id": "10c3cac2",
   "metadata": {},
   "outputs": [
    {
     "name": "stdout",
     "output_type": "stream",
     "text": [
      "Requirement already satisfied: matplotlib==3.4.2 in /Users/dark_prince/Desktop/DissoCodes/venv/lib/python3.8/site-packages (from -r requirements.txt (line 3)) (3.4.2)\n",
      "Requirement already satisfied: pandas==1.3.1 in /Users/dark_prince/Desktop/DissoCodes/venv/lib/python3.8/site-packages (from -r requirements.txt (line 4)) (1.3.1)\n",
      "Requirement already satisfied: numpy==1.21.1 in /Users/dark_prince/Desktop/DissoCodes/venv/lib/python3.8/site-packages (from -r requirements.txt (line 5)) (1.21.1)\n",
      "Requirement already satisfied: praw==7.4.0 in /Users/dark_prince/Desktop/DissoCodes/venv/lib/python3.8/site-packages (from -r requirements.txt (line 6)) (7.4.0)\n",
      "Requirement already satisfied: nltk==3.6.2 in /Users/dark_prince/Desktop/DissoCodes/venv/lib/python3.8/site-packages (from -r requirements.txt (line 7)) (3.6.2)\n",
      "Requirement already satisfied: spacy==3.1.1 in /Users/dark_prince/Desktop/DissoCodes/venv/lib/python3.8/site-packages (from -r requirements.txt (line 8)) (3.1.1)\n",
      "Requirement already satisfied: demoji==1.0.0 in /Users/dark_prince/Desktop/DissoCodes/venv/lib/python3.8/site-packages (from -r requirements.txt (line 9)) (1.0.0)\n",
      "Collecting emoji==1.4.2\n",
      "  Using cached emoji-1.4.2.tar.gz (184 kB)\n",
      "Requirement already satisfied: pyparsing>=2.2.1 in /Users/dark_prince/Desktop/DissoCodes/venv/lib/python3.8/site-packages (from matplotlib==3.4.2->-r requirements.txt (line 3)) (2.4.7)\n",
      "Requirement already satisfied: python-dateutil>=2.7 in /Users/dark_prince/Desktop/DissoCodes/venv/lib/python3.8/site-packages (from matplotlib==3.4.2->-r requirements.txt (line 3)) (2.8.2)\n",
      "Requirement already satisfied: kiwisolver>=1.0.1 in /Users/dark_prince/Desktop/DissoCodes/venv/lib/python3.8/site-packages (from matplotlib==3.4.2->-r requirements.txt (line 3)) (1.3.1)\n",
      "Requirement already satisfied: pillow>=6.2.0 in /Users/dark_prince/Desktop/DissoCodes/venv/lib/python3.8/site-packages (from matplotlib==3.4.2->-r requirements.txt (line 3)) (8.3.1)\n",
      "Requirement already satisfied: cycler>=0.10 in /Users/dark_prince/Desktop/DissoCodes/venv/lib/python3.8/site-packages (from matplotlib==3.4.2->-r requirements.txt (line 3)) (0.10.0)\n",
      "Requirement already satisfied: click in /Users/dark_prince/Desktop/DissoCodes/venv/lib/python3.8/site-packages (from nltk==3.6.2->-r requirements.txt (line 7)) (7.1.2)\n",
      "Requirement already satisfied: tqdm in /Users/dark_prince/Desktop/DissoCodes/venv/lib/python3.8/site-packages (from nltk==3.6.2->-r requirements.txt (line 7)) (4.62.0)\n",
      "Requirement already satisfied: regex in /Users/dark_prince/Desktop/DissoCodes/venv/lib/python3.8/site-packages (from nltk==3.6.2->-r requirements.txt (line 7)) (2021.8.3)\n",
      "Requirement already satisfied: joblib in /Users/dark_prince/Desktop/DissoCodes/venv/lib/python3.8/site-packages (from nltk==3.6.2->-r requirements.txt (line 7)) (1.0.1)\n",
      "Requirement already satisfied: pytz>=2017.3 in /Users/dark_prince/Desktop/DissoCodes/venv/lib/python3.8/site-packages (from pandas==1.3.1->-r requirements.txt (line 4)) (2021.1)\n",
      "Requirement already satisfied: prawcore<3,>=2.1 in /Users/dark_prince/Desktop/DissoCodes/venv/lib/python3.8/site-packages (from praw==7.4.0->-r requirements.txt (line 6)) (2.3.0)\n",
      "Requirement already satisfied: websocket-client>=0.54.0 in /Users/dark_prince/Desktop/DissoCodes/venv/lib/python3.8/site-packages (from praw==7.4.0->-r requirements.txt (line 6)) (1.1.1)\n",
      "Requirement already satisfied: update-checker>=0.18 in /Users/dark_prince/Desktop/DissoCodes/venv/lib/python3.8/site-packages (from praw==7.4.0->-r requirements.txt (line 6)) (0.18.0)\n",
      "Requirement already satisfied: pydantic!=1.8,!=1.8.1,<1.9.0,>=1.7.4 in /Users/dark_prince/Desktop/DissoCodes/venv/lib/python3.8/site-packages (from spacy==3.1.1->-r requirements.txt (line 8)) (1.8.2)\n",
      "Requirement already satisfied: pathy>=0.3.5 in /Users/dark_prince/Desktop/DissoCodes/venv/lib/python3.8/site-packages (from spacy==3.1.1->-r requirements.txt (line 8)) (0.6.0)\n",
      "Requirement already satisfied: murmurhash<1.1.0,>=0.28.0 in /Users/dark_prince/Desktop/DissoCodes/venv/lib/python3.8/site-packages (from spacy==3.1.1->-r requirements.txt (line 8)) (1.0.5)\n",
      "Requirement already satisfied: cymem<2.1.0,>=2.0.2 in /Users/dark_prince/Desktop/DissoCodes/venv/lib/python3.8/site-packages (from spacy==3.1.1->-r requirements.txt (line 8)) (2.0.5)\n",
      "Requirement already satisfied: spacy-legacy<3.1.0,>=3.0.7 in /Users/dark_prince/Desktop/DissoCodes/venv/lib/python3.8/site-packages (from spacy==3.1.1->-r requirements.txt (line 8)) (3.0.8)\n",
      "Requirement already satisfied: typer<0.4.0,>=0.3.0 in /Users/dark_prince/Desktop/DissoCodes/venv/lib/python3.8/site-packages (from spacy==3.1.1->-r requirements.txt (line 8)) (0.3.2)\n",
      "Requirement already satisfied: packaging>=20.0 in /Users/dark_prince/Desktop/DissoCodes/venv/lib/python3.8/site-packages (from spacy==3.1.1->-r requirements.txt (line 8)) (21.0)\n",
      "Requirement already satisfied: catalogue<2.1.0,>=2.0.4 in /Users/dark_prince/Desktop/DissoCodes/venv/lib/python3.8/site-packages (from spacy==3.1.1->-r requirements.txt (line 8)) (2.0.4)\n",
      "Requirement already satisfied: requests<3.0.0,>=2.13.0 in /Users/dark_prince/Desktop/DissoCodes/venv/lib/python3.8/site-packages (from spacy==3.1.1->-r requirements.txt (line 8)) (2.26.0)\n",
      "Requirement already satisfied: blis<0.8.0,>=0.4.0 in /Users/dark_prince/Desktop/DissoCodes/venv/lib/python3.8/site-packages (from spacy==3.1.1->-r requirements.txt (line 8)) (0.7.4)\n",
      "Requirement already satisfied: jinja2 in /Users/dark_prince/Desktop/DissoCodes/venv/lib/python3.8/site-packages (from spacy==3.1.1->-r requirements.txt (line 8)) (3.0.1)\n",
      "Requirement already satisfied: wasabi<1.1.0,>=0.8.1 in /Users/dark_prince/Desktop/DissoCodes/venv/lib/python3.8/site-packages (from spacy==3.1.1->-r requirements.txt (line 8)) (0.8.2)\n",
      "Requirement already satisfied: setuptools in /Users/dark_prince/Desktop/DissoCodes/venv/lib/python3.8/site-packages (from spacy==3.1.1->-r requirements.txt (line 8)) (56.0.0)\n",
      "Requirement already satisfied: preshed<3.1.0,>=3.0.2 in /Users/dark_prince/Desktop/DissoCodes/venv/lib/python3.8/site-packages (from spacy==3.1.1->-r requirements.txt (line 8)) (3.0.5)\n",
      "Requirement already satisfied: srsly<3.0.0,>=2.4.1 in /Users/dark_prince/Desktop/DissoCodes/venv/lib/python3.8/site-packages (from spacy==3.1.1->-r requirements.txt (line 8)) (2.4.1)\n",
      "Requirement already satisfied: thinc<8.1.0,>=8.0.8 in /Users/dark_prince/Desktop/DissoCodes/venv/lib/python3.8/site-packages (from spacy==3.1.1->-r requirements.txt (line 8)) (8.0.8)\n",
      "Requirement already satisfied: six in /Users/dark_prince/Desktop/DissoCodes/venv/lib/python3.8/site-packages (from cycler>=0.10->matplotlib==3.4.2->-r requirements.txt (line 3)) (1.16.0)\n",
      "Requirement already satisfied: smart-open<6.0.0,>=5.0.0 in /Users/dark_prince/Desktop/DissoCodes/venv/lib/python3.8/site-packages (from pathy>=0.3.5->spacy==3.1.1->-r requirements.txt (line 8)) (5.1.0)\n",
      "Requirement already satisfied: typing-extensions>=3.7.4.3 in /Users/dark_prince/Desktop/DissoCodes/venv/lib/python3.8/site-packages (from pydantic!=1.8,!=1.8.1,<1.9.0,>=1.7.4->spacy==3.1.1->-r requirements.txt (line 8)) (3.10.0.0)\n",
      "Requirement already satisfied: urllib3<1.27,>=1.21.1 in /Users/dark_prince/Desktop/DissoCodes/venv/lib/python3.8/site-packages (from requests<3.0.0,>=2.13.0->spacy==3.1.1->-r requirements.txt (line 8)) (1.26.6)\n",
      "Requirement already satisfied: idna<4,>=2.5 in /Users/dark_prince/Desktop/DissoCodes/venv/lib/python3.8/site-packages (from requests<3.0.0,>=2.13.0->spacy==3.1.1->-r requirements.txt (line 8)) (3.2)\n",
      "Requirement already satisfied: certifi>=2017.4.17 in /Users/dark_prince/Desktop/DissoCodes/venv/lib/python3.8/site-packages (from requests<3.0.0,>=2.13.0->spacy==3.1.1->-r requirements.txt (line 8)) (2021.5.30)\n",
      "Requirement already satisfied: charset-normalizer~=2.0.0 in /Users/dark_prince/Desktop/DissoCodes/venv/lib/python3.8/site-packages (from requests<3.0.0,>=2.13.0->spacy==3.1.1->-r requirements.txt (line 8)) (2.0.4)\n",
      "Requirement already satisfied: MarkupSafe>=2.0 in /Users/dark_prince/Desktop/DissoCodes/venv/lib/python3.8/site-packages (from jinja2->spacy==3.1.1->-r requirements.txt (line 8)) (2.0.1)\n",
      "Building wheels for collected packages: emoji\n"
     ]
    },
    {
     "name": "stdout",
     "output_type": "stream",
     "text": [
      "  Building wheel for emoji (setup.py) ... \u001b[?25ldone\n",
      "\u001b[?25h  Created wheel for emoji: filename=emoji-1.4.2-py3-none-any.whl size=186452 sha256=9ca569453c30d8212b76392a4a81b2b9b208aea79fa0ca92eacc54f76001590a\n",
      "  Stored in directory: /Users/dark_prince/Library/Caches/pip/wheels/71/4d/3c/cada364d4ea0026deee7208dee1e61bcebd20aa2ae5dc154ba\n",
      "Successfully built emoji\n",
      "Installing collected packages: emoji\n",
      "Successfully installed emoji-1.4.2\n",
      "\u001b[33mWARNING: You are using pip version 21.0.1; however, version 21.2.3 is available.\n",
      "You should consider upgrading via the '/Users/dark_prince/Desktop/DissoCodes/venv/bin/python -m pip install --upgrade pip' command.\u001b[0m\n"
     ]
    }
   ],
   "source": [
    "!pip3 install -r requirements.txt"
   ]
  },
  {
   "cell_type": "code",
   "execution_count": 18,
   "id": "6e06e4bf",
   "metadata": {},
   "outputs": [
    {
     "name": "stderr",
     "output_type": "stream",
     "text": [
      "/var/folders/xk/xzsh5hpj1tj6xwdckxm3yzfc0000gn/T/ipykernel_36536/4074095023.py:18: FutureWarning: The demoji.download_codes attribute is deprecated and will be removed from demoji in a future version. It is an unused attribute as emoji codes are now distributed directly with the demoji package.\n",
      "  demoji.download_codes()\n"
     ]
    }
   ],
   "source": [
    "# imports we are going to use for preprocessing\n",
    "\n",
    "#imports \n",
    "import pandas as pd\n",
    "import numpy as np\n",
    "import math\n",
    "from praw.models import MoreComments\n",
    "from nltk.corpus import stopwords\n",
    "#from nltk.tokenize import RegexTokenizer\n",
    "#from util.tokenize import SentTokenizer\n",
    "from nltk.stem import WordNetLemmatizer\n",
    "from nltk.stem import PorterStemmer\n",
    "#from nltk import FreqDistq\n",
    "import spacy\n",
    "\n",
    "import string\n",
    "import demoji\n",
    "demoji.download_codes()\n",
    "from nltk.tokenize import TweetTokenizer"
   ]
  },
  {
   "cell_type": "code",
   "execution_count": 21,
   "id": "4b8433b9",
   "metadata": {},
   "outputs": [
    {
     "name": "stdout",
     "output_type": "stream",
     "text": [
      "Collecting en-core-web-sm==3.1.0\n",
      "  Downloading https://github.com/explosion/spacy-models/releases/download/en_core_web_sm-3.1.0/en_core_web_sm-3.1.0-py3-none-any.whl (13.6 MB)\n",
      "\u001b[K     |████████████████████████████████| 13.6 MB 1.8 MB/s eta 0:00:01\n",
      "\u001b[?25hRequirement already satisfied: spacy<3.2.0,>=3.1.0 in /Users/dark_prince/Desktop/DissoCodes/venv/lib/python3.8/site-packages (from en-core-web-sm==3.1.0) (3.1.1)\n",
      "Requirement already satisfied: blis<0.8.0,>=0.4.0 in /Users/dark_prince/Desktop/DissoCodes/venv/lib/python3.8/site-packages (from spacy<3.2.0,>=3.1.0->en-core-web-sm==3.1.0) (0.7.4)\n",
      "Requirement already satisfied: catalogue<2.1.0,>=2.0.4 in /Users/dark_prince/Desktop/DissoCodes/venv/lib/python3.8/site-packages (from spacy<3.2.0,>=3.1.0->en-core-web-sm==3.1.0) (2.0.4)\n",
      "Requirement already satisfied: tqdm<5.0.0,>=4.38.0 in /Users/dark_prince/Desktop/DissoCodes/venv/lib/python3.8/site-packages (from spacy<3.2.0,>=3.1.0->en-core-web-sm==3.1.0) (4.62.0)\n",
      "Requirement already satisfied: jinja2 in /Users/dark_prince/Desktop/DissoCodes/venv/lib/python3.8/site-packages (from spacy<3.2.0,>=3.1.0->en-core-web-sm==3.1.0) (3.0.1)\n",
      "Requirement already satisfied: cymem<2.1.0,>=2.0.2 in /Users/dark_prince/Desktop/DissoCodes/venv/lib/python3.8/site-packages (from spacy<3.2.0,>=3.1.0->en-core-web-sm==3.1.0) (2.0.5)\n",
      "Requirement already satisfied: murmurhash<1.1.0,>=0.28.0 in /Users/dark_prince/Desktop/DissoCodes/venv/lib/python3.8/site-packages (from spacy<3.2.0,>=3.1.0->en-core-web-sm==3.1.0) (1.0.5)\n",
      "Requirement already satisfied: numpy>=1.15.0 in /Users/dark_prince/Desktop/DissoCodes/venv/lib/python3.8/site-packages (from spacy<3.2.0,>=3.1.0->en-core-web-sm==3.1.0) (1.21.1)\n",
      "Requirement already satisfied: requests<3.0.0,>=2.13.0 in /Users/dark_prince/Desktop/DissoCodes/venv/lib/python3.8/site-packages (from spacy<3.2.0,>=3.1.0->en-core-web-sm==3.1.0) (2.26.0)\n",
      "Requirement already satisfied: pydantic!=1.8,!=1.8.1,<1.9.0,>=1.7.4 in /Users/dark_prince/Desktop/DissoCodes/venv/lib/python3.8/site-packages (from spacy<3.2.0,>=3.1.0->en-core-web-sm==3.1.0) (1.8.2)\n",
      "Requirement already satisfied: packaging>=20.0 in /Users/dark_prince/Desktop/DissoCodes/venv/lib/python3.8/site-packages (from spacy<3.2.0,>=3.1.0->en-core-web-sm==3.1.0) (21.0)\n",
      "Requirement already satisfied: pathy>=0.3.5 in /Users/dark_prince/Desktop/DissoCodes/venv/lib/python3.8/site-packages (from spacy<3.2.0,>=3.1.0->en-core-web-sm==3.1.0) (0.6.0)\n",
      "Requirement already satisfied: setuptools in /Users/dark_prince/Desktop/DissoCodes/venv/lib/python3.8/site-packages (from spacy<3.2.0,>=3.1.0->en-core-web-sm==3.1.0) (56.0.0)\n",
      "Requirement already satisfied: wasabi<1.1.0,>=0.8.1 in /Users/dark_prince/Desktop/DissoCodes/venv/lib/python3.8/site-packages (from spacy<3.2.0,>=3.1.0->en-core-web-sm==3.1.0) (0.8.2)\n",
      "Requirement already satisfied: srsly<3.0.0,>=2.4.1 in /Users/dark_prince/Desktop/DissoCodes/venv/lib/python3.8/site-packages (from spacy<3.2.0,>=3.1.0->en-core-web-sm==3.1.0) (2.4.1)\n",
      "Requirement already satisfied: typer<0.4.0,>=0.3.0 in /Users/dark_prince/Desktop/DissoCodes/venv/lib/python3.8/site-packages (from spacy<3.2.0,>=3.1.0->en-core-web-sm==3.1.0) (0.3.2)\n",
      "Requirement already satisfied: thinc<8.1.0,>=8.0.8 in /Users/dark_prince/Desktop/DissoCodes/venv/lib/python3.8/site-packages (from spacy<3.2.0,>=3.1.0->en-core-web-sm==3.1.0) (8.0.8)\n",
      "Requirement already satisfied: spacy-legacy<3.1.0,>=3.0.7 in /Users/dark_prince/Desktop/DissoCodes/venv/lib/python3.8/site-packages (from spacy<3.2.0,>=3.1.0->en-core-web-sm==3.1.0) (3.0.8)\n",
      "Requirement already satisfied: preshed<3.1.0,>=3.0.2 in /Users/dark_prince/Desktop/DissoCodes/venv/lib/python3.8/site-packages (from spacy<3.2.0,>=3.1.0->en-core-web-sm==3.1.0) (3.0.5)\n",
      "Requirement already satisfied: pyparsing>=2.0.2 in /Users/dark_prince/Desktop/DissoCodes/venv/lib/python3.8/site-packages (from packaging>=20.0->spacy<3.2.0,>=3.1.0->en-core-web-sm==3.1.0) (2.4.7)\n",
      "Requirement already satisfied: smart-open<6.0.0,>=5.0.0 in /Users/dark_prince/Desktop/DissoCodes/venv/lib/python3.8/site-packages (from pathy>=0.3.5->spacy<3.2.0,>=3.1.0->en-core-web-sm==3.1.0) (5.1.0)\n",
      "Requirement already satisfied: typing-extensions>=3.7.4.3 in /Users/dark_prince/Desktop/DissoCodes/venv/lib/python3.8/site-packages (from pydantic!=1.8,!=1.8.1,<1.9.0,>=1.7.4->spacy<3.2.0,>=3.1.0->en-core-web-sm==3.1.0) (3.10.0.0)\n",
      "Requirement already satisfied: idna<4,>=2.5 in /Users/dark_prince/Desktop/DissoCodes/venv/lib/python3.8/site-packages (from requests<3.0.0,>=2.13.0->spacy<3.2.0,>=3.1.0->en-core-web-sm==3.1.0) (3.2)\n",
      "Requirement already satisfied: urllib3<1.27,>=1.21.1 in /Users/dark_prince/Desktop/DissoCodes/venv/lib/python3.8/site-packages (from requests<3.0.0,>=2.13.0->spacy<3.2.0,>=3.1.0->en-core-web-sm==3.1.0) (1.26.6)\n",
      "Requirement already satisfied: charset-normalizer~=2.0.0 in /Users/dark_prince/Desktop/DissoCodes/venv/lib/python3.8/site-packages (from requests<3.0.0,>=2.13.0->spacy<3.2.0,>=3.1.0->en-core-web-sm==3.1.0) (2.0.4)\n",
      "Requirement already satisfied: certifi>=2017.4.17 in /Users/dark_prince/Desktop/DissoCodes/venv/lib/python3.8/site-packages (from requests<3.0.0,>=2.13.0->spacy<3.2.0,>=3.1.0->en-core-web-sm==3.1.0) (2021.5.30)\n",
      "Requirement already satisfied: click<7.2.0,>=7.1.1 in /Users/dark_prince/Desktop/DissoCodes/venv/lib/python3.8/site-packages (from typer<0.4.0,>=0.3.0->spacy<3.2.0,>=3.1.0->en-core-web-sm==3.1.0) (7.1.2)\n",
      "Requirement already satisfied: MarkupSafe>=2.0 in /Users/dark_prince/Desktop/DissoCodes/venv/lib/python3.8/site-packages (from jinja2->spacy<3.2.0,>=3.1.0->en-core-web-sm==3.1.0) (2.0.1)\n",
      "Installing collected packages: en-core-web-sm\n",
      "Successfully installed en-core-web-sm-3.1.0\n",
      "\u001b[33mWARNING: You are using pip version 21.0.1; however, version 21.2.3 is available.\n",
      "You should consider upgrading via the '/Users/dark_prince/Desktop/DissoCodes/venv/bin/python -m pip install --upgrade pip' command.\u001b[0m\n",
      "\u001b[38;5;2m✔ Download and installation successful\u001b[0m\n",
      "You can now load the package via spacy.load('en_core_web_sm')\n"
     ]
    }
   ],
   "source": [
    "!python -m spacy download en_core_web_sm\n"
   ]
  },
  {
   "cell_type": "code",
   "execution_count": 76,
   "id": "3d53b7ce",
   "metadata": {
    "scrolled": true
   },
   "outputs": [],
   "source": [
    "# pyforest imports all the usual libraries we use Pandas , sckitlearn, numpy etc\n",
    "#import pyforest\n",
    "import emoji\n",
    "import re\n",
    "import en_core_web_sm\n",
    "\n",
    "pd.set_option('display.max_colwidth', None)"
   ]
  },
  {
   "cell_type": "code",
   "execution_count": 77,
   "id": "972b05ac",
   "metadata": {},
   "outputs": [
    {
     "data": {
      "text/html": [
       "<div>\n",
       "<style scoped>\n",
       "    .dataframe tbody tr th:only-of-type {\n",
       "        vertical-align: middle;\n",
       "    }\n",
       "\n",
       "    .dataframe tbody tr th {\n",
       "        vertical-align: top;\n",
       "    }\n",
       "\n",
       "    .dataframe thead th {\n",
       "        text-align: right;\n",
       "    }\n",
       "</style>\n",
       "<table border=\"1\" class=\"dataframe\">\n",
       "  <thead>\n",
       "    <tr style=\"text-align: right;\">\n",
       "      <th></th>\n",
       "      <th>id</th>\n",
       "      <th>conversation_id</th>\n",
       "      <th>created_at</th>\n",
       "      <th>date</th>\n",
       "      <th>timezone</th>\n",
       "      <th>place</th>\n",
       "      <th>tweet</th>\n",
       "      <th>language</th>\n",
       "      <th>hashtags</th>\n",
       "      <th>cashtags</th>\n",
       "      <th>...</th>\n",
       "      <th>geo</th>\n",
       "      <th>source</th>\n",
       "      <th>user_rt_id</th>\n",
       "      <th>user_rt</th>\n",
       "      <th>retweet_id</th>\n",
       "      <th>reply_to</th>\n",
       "      <th>retweet_date</th>\n",
       "      <th>translate</th>\n",
       "      <th>trans_src</th>\n",
       "      <th>trans_dest</th>\n",
       "    </tr>\n",
       "  </thead>\n",
       "  <tbody>\n",
       "    <tr>\n",
       "      <th>0</th>\n",
       "      <td>1420829994545262592</td>\n",
       "      <td>1420829994545262592</td>\n",
       "      <td>1.627587e+12</td>\n",
       "      <td>2021-07-29 20:34:03</td>\n",
       "      <td>+0100</td>\n",
       "      <td></td>\n",
       "      <td>Giga Texas: 6 months ago vs this week  https://t.co/CAgmIJ3wKQ</td>\n",
       "      <td>en</td>\n",
       "      <td>[]</td>\n",
       "      <td>[]</td>\n",
       "      <td>...</td>\n",
       "      <td></td>\n",
       "      <td></td>\n",
       "      <td></td>\n",
       "      <td></td>\n",
       "      <td></td>\n",
       "      <td>[]</td>\n",
       "      <td></td>\n",
       "      <td></td>\n",
       "      <td></td>\n",
       "      <td></td>\n",
       "    </tr>\n",
       "    <tr>\n",
       "      <th>1</th>\n",
       "      <td>1420120550756831233</td>\n",
       "      <td>1420120550756831233</td>\n",
       "      <td>1.627418e+12</td>\n",
       "      <td>2021-07-27 21:34:58</td>\n",
       "      <td>+0100</td>\n",
       "      <td></td>\n",
       "      <td>Music video filmed using Tesla Sentry Mode  https://t.co/g7ZYub2NH5</td>\n",
       "      <td>en</td>\n",
       "      <td>[]</td>\n",
       "      <td>[]</td>\n",
       "      <td>...</td>\n",
       "      <td></td>\n",
       "      <td></td>\n",
       "      <td></td>\n",
       "      <td></td>\n",
       "      <td></td>\n",
       "      <td>[]</td>\n",
       "      <td></td>\n",
       "      <td></td>\n",
       "      <td></td>\n",
       "      <td></td>\n",
       "    </tr>\n",
       "    <tr>\n",
       "      <th>2</th>\n",
       "      <td>1416793350750056448</td>\n",
       "      <td>1416793350750056448</td>\n",
       "      <td>1.626625e+12</td>\n",
       "      <td>2021-07-18 17:13:52</td>\n",
       "      <td>+0100</td>\n",
       "      <td></td>\n",
       "      <td>Solar Roof is designed to withstand heavy storms, hail and even medium-size tree branches  https://t.co/IvTROrPC0j</td>\n",
       "      <td>en</td>\n",
       "      <td>[]</td>\n",
       "      <td>[]</td>\n",
       "      <td>...</td>\n",
       "      <td></td>\n",
       "      <td></td>\n",
       "      <td></td>\n",
       "      <td></td>\n",
       "      <td></td>\n",
       "      <td>[]</td>\n",
       "      <td></td>\n",
       "      <td></td>\n",
       "      <td></td>\n",
       "      <td></td>\n",
       "    </tr>\n",
       "    <tr>\n",
       "      <th>3</th>\n",
       "      <td>1412548803119435780</td>\n",
       "      <td>1412548803119435780</td>\n",
       "      <td>1.625613e+12</td>\n",
       "      <td>2021-07-07 00:07:33</td>\n",
       "      <td>+0100</td>\n",
       "      <td></td>\n",
       "      <td>You can stream Netflix &amp;amp; YouTube, play video games or sing Caraoke in your Tesla 📺🎮🎤</td>\n",
       "      <td>en</td>\n",
       "      <td>[]</td>\n",
       "      <td>[]</td>\n",
       "      <td>...</td>\n",
       "      <td></td>\n",
       "      <td></td>\n",
       "      <td></td>\n",
       "      <td></td>\n",
       "      <td></td>\n",
       "      <td>[]</td>\n",
       "      <td></td>\n",
       "      <td></td>\n",
       "      <td></td>\n",
       "      <td></td>\n",
       "    </tr>\n",
       "    <tr>\n",
       "      <th>4</th>\n",
       "      <td>1411104242367143948</td>\n",
       "      <td>1411104240383168512</td>\n",
       "      <td>1.625268e+12</td>\n",
       "      <td>2021-07-03 00:27:23</td>\n",
       "      <td>+0100</td>\n",
       "      <td></td>\n",
       "      <td>To activate, tap Software → long press model name → type holidays or ModelXMas</td>\n",
       "      <td>en</td>\n",
       "      <td>[]</td>\n",
       "      <td>[]</td>\n",
       "      <td>...</td>\n",
       "      <td></td>\n",
       "      <td></td>\n",
       "      <td></td>\n",
       "      <td></td>\n",
       "      <td></td>\n",
       "      <td>[]</td>\n",
       "      <td></td>\n",
       "      <td></td>\n",
       "      <td></td>\n",
       "      <td></td>\n",
       "    </tr>\n",
       "    <tr>\n",
       "      <th>...</th>\n",
       "      <td>...</td>\n",
       "      <td>...</td>\n",
       "      <td>...</td>\n",
       "      <td>...</td>\n",
       "      <td>...</td>\n",
       "      <td>...</td>\n",
       "      <td>...</td>\n",
       "      <td>...</td>\n",
       "      <td>...</td>\n",
       "      <td>...</td>\n",
       "      <td>...</td>\n",
       "      <td>...</td>\n",
       "      <td>...</td>\n",
       "      <td>...</td>\n",
       "      <td>...</td>\n",
       "      <td>...</td>\n",
       "      <td>...</td>\n",
       "      <td>...</td>\n",
       "      <td>...</td>\n",
       "      <td>...</td>\n",
       "      <td>...</td>\n",
       "    </tr>\n",
       "    <tr>\n",
       "      <th>95</th>\n",
       "      <td>1184205373449879552</td>\n",
       "      <td>1184202345170817024</td>\n",
       "      <td>1.571172e+12</td>\n",
       "      <td>2019-10-15 21:32:17</td>\n",
       "      <td>+0100</td>\n",
       "      <td></td>\n",
       "      <td>@HarryStoltz1 F</td>\n",
       "      <td>und</td>\n",
       "      <td>[]</td>\n",
       "      <td>[]</td>\n",
       "      <td>...</td>\n",
       "      <td></td>\n",
       "      <td></td>\n",
       "      <td></td>\n",
       "      <td></td>\n",
       "      <td></td>\n",
       "      <td>[{'screen_name': 'HarryStoltz1', 'name': 'Harry Stoltz🚀', 'id': '727955767567884289'}]</td>\n",
       "      <td></td>\n",
       "      <td></td>\n",
       "      <td></td>\n",
       "      <td></td>\n",
       "    </tr>\n",
       "    <tr>\n",
       "      <th>96</th>\n",
       "      <td>1184202345170817024</td>\n",
       "      <td>1184202345170817024</td>\n",
       "      <td>1.571171e+12</td>\n",
       "      <td>2019-10-15 21:20:15</td>\n",
       "      <td>+0100</td>\n",
       "      <td></td>\n",
       "      <td>Do you want a sneak peek of our crash lab?  Of course you do.   It’s one of the reasons why Model 3 is among the safest cars on the road.  https://t.co/jQxWizz0ea</td>\n",
       "      <td>en</td>\n",
       "      <td>[]</td>\n",
       "      <td>[]</td>\n",
       "      <td>...</td>\n",
       "      <td></td>\n",
       "      <td></td>\n",
       "      <td></td>\n",
       "      <td></td>\n",
       "      <td></td>\n",
       "      <td>[]</td>\n",
       "      <td></td>\n",
       "      <td></td>\n",
       "      <td></td>\n",
       "      <td></td>\n",
       "    </tr>\n",
       "    <tr>\n",
       "      <th>97</th>\n",
       "      <td>1181980583070748672</td>\n",
       "      <td>1181977669556211712</td>\n",
       "      <td>1.570641e+12</td>\n",
       "      <td>2019-10-09 18:11:45</td>\n",
       "      <td>+0100</td>\n",
       "      <td></td>\n",
       "      <td>@Super_modi_ we're good</td>\n",
       "      <td>en</td>\n",
       "      <td>[]</td>\n",
       "      <td>[]</td>\n",
       "      <td>...</td>\n",
       "      <td></td>\n",
       "      <td></td>\n",
       "      <td></td>\n",
       "      <td></td>\n",
       "      <td></td>\n",
       "      <td>[]</td>\n",
       "      <td></td>\n",
       "      <td></td>\n",
       "      <td></td>\n",
       "      <td></td>\n",
       "    </tr>\n",
       "    <tr>\n",
       "      <th>98</th>\n",
       "      <td>1181978026344697856</td>\n",
       "      <td>1181977669556211712</td>\n",
       "      <td>1.570640e+12</td>\n",
       "      <td>2019-10-09 18:01:36</td>\n",
       "      <td>+0100</td>\n",
       "      <td></td>\n",
       "      <td>@Super_modi_ CAR</td>\n",
       "      <td>und</td>\n",
       "      <td>[]</td>\n",
       "      <td>[]</td>\n",
       "      <td>...</td>\n",
       "      <td></td>\n",
       "      <td></td>\n",
       "      <td></td>\n",
       "      <td></td>\n",
       "      <td></td>\n",
       "      <td>[]</td>\n",
       "      <td></td>\n",
       "      <td></td>\n",
       "      <td></td>\n",
       "      <td></td>\n",
       "    </tr>\n",
       "    <tr>\n",
       "      <th>99</th>\n",
       "      <td>1181977978496049152</td>\n",
       "      <td>1181977669556211712</td>\n",
       "      <td>1.570640e+12</td>\n",
       "      <td>2019-10-09 18:01:24</td>\n",
       "      <td>+0100</td>\n",
       "      <td></td>\n",
       "      <td>@Super_modi_ CAR-aoke guys</td>\n",
       "      <td>en</td>\n",
       "      <td>[]</td>\n",
       "      <td>[]</td>\n",
       "      <td>...</td>\n",
       "      <td></td>\n",
       "      <td></td>\n",
       "      <td></td>\n",
       "      <td></td>\n",
       "      <td></td>\n",
       "      <td>[]</td>\n",
       "      <td></td>\n",
       "      <td></td>\n",
       "      <td></td>\n",
       "      <td></td>\n",
       "    </tr>\n",
       "  </tbody>\n",
       "</table>\n",
       "<p>100 rows × 38 columns</p>\n",
       "</div>"
      ],
      "text/plain": [
       "                     id      conversation_id    created_at  \\\n",
       "0   1420829994545262592  1420829994545262592  1.627587e+12   \n",
       "1   1420120550756831233  1420120550756831233  1.627418e+12   \n",
       "2   1416793350750056448  1416793350750056448  1.626625e+12   \n",
       "3   1412548803119435780  1412548803119435780  1.625613e+12   \n",
       "4   1411104242367143948  1411104240383168512  1.625268e+12   \n",
       "..                  ...                  ...           ...   \n",
       "95  1184205373449879552  1184202345170817024  1.571172e+12   \n",
       "96  1184202345170817024  1184202345170817024  1.571171e+12   \n",
       "97  1181980583070748672  1181977669556211712  1.570641e+12   \n",
       "98  1181978026344697856  1181977669556211712  1.570640e+12   \n",
       "99  1181977978496049152  1181977669556211712  1.570640e+12   \n",
       "\n",
       "                   date timezone place  \\\n",
       "0   2021-07-29 20:34:03    +0100         \n",
       "1   2021-07-27 21:34:58    +0100         \n",
       "2   2021-07-18 17:13:52    +0100         \n",
       "3   2021-07-07 00:07:33    +0100         \n",
       "4   2021-07-03 00:27:23    +0100         \n",
       "..                  ...      ...   ...   \n",
       "95  2019-10-15 21:32:17    +0100         \n",
       "96  2019-10-15 21:20:15    +0100         \n",
       "97  2019-10-09 18:11:45    +0100         \n",
       "98  2019-10-09 18:01:36    +0100         \n",
       "99  2019-10-09 18:01:24    +0100         \n",
       "\n",
       "                                                                                                                                                                 tweet  \\\n",
       "0                                                                                                       Giga Texas: 6 months ago vs this week  https://t.co/CAgmIJ3wKQ   \n",
       "1                                                                                                  Music video filmed using Tesla Sentry Mode  https://t.co/g7ZYub2NH5   \n",
       "2                                                   Solar Roof is designed to withstand heavy storms, hail and even medium-size tree branches  https://t.co/IvTROrPC0j   \n",
       "3                                                                             You can stream Netflix &amp; YouTube, play video games or sing Caraoke in your Tesla 📺🎮🎤   \n",
       "4                                                                                       To activate, tap Software → long press model name → type holidays or ModelXMas   \n",
       "..                                                                                                                                                                 ...   \n",
       "95                                                                                                                                                     @HarryStoltz1 F   \n",
       "96  Do you want a sneak peek of our crash lab?  Of course you do.   It’s one of the reasons why Model 3 is among the safest cars on the road.  https://t.co/jQxWizz0ea   \n",
       "97                                                                                                                                             @Super_modi_ we're good   \n",
       "98                                                                                                                                                    @Super_modi_ CAR   \n",
       "99                                                                                                                                          @Super_modi_ CAR-aoke guys   \n",
       "\n",
       "   language hashtags cashtags  ...  geo source user_rt_id user_rt  retweet_id  \\\n",
       "0        en       []       []  ...                                              \n",
       "1        en       []       []  ...                                              \n",
       "2        en       []       []  ...                                              \n",
       "3        en       []       []  ...                                              \n",
       "4        en       []       []  ...                                              \n",
       "..      ...      ...      ...  ...  ...    ...        ...     ...         ...   \n",
       "95      und       []       []  ...                                              \n",
       "96       en       []       []  ...                                              \n",
       "97       en       []       []  ...                                              \n",
       "98      und       []       []  ...                                              \n",
       "99       en       []       []  ...                                              \n",
       "\n",
       "                                                                                  reply_to  \\\n",
       "0                                                                                       []   \n",
       "1                                                                                       []   \n",
       "2                                                                                       []   \n",
       "3                                                                                       []   \n",
       "4                                                                                       []   \n",
       "..                                                                                     ...   \n",
       "95  [{'screen_name': 'HarryStoltz1', 'name': 'Harry Stoltz🚀', 'id': '727955767567884289'}]   \n",
       "96                                                                                      []   \n",
       "97                                                                                      []   \n",
       "98                                                                                      []   \n",
       "99                                                                                      []   \n",
       "\n",
       "   retweet_date translate trans_src  trans_dest  \n",
       "0                                                \n",
       "1                                                \n",
       "2                                                \n",
       "3                                                \n",
       "4                                                \n",
       "..          ...       ...       ...         ...  \n",
       "95                                               \n",
       "96                                               \n",
       "97                                               \n",
       "98                                               \n",
       "99                                               \n",
       "\n",
       "[100 rows x 38 columns]"
      ]
     },
     "execution_count": 77,
     "metadata": {},
     "output_type": "execute_result"
    }
   ],
   "source": [
    "#unpack pickle file \n",
    "df = pd.read_pickle(\"exampleTweets.pkl\")\n",
    "\n",
    "df"
   ]
  },
  {
   "cell_type": "markdown",
   "id": "ad4c2662",
   "metadata": {},
   "source": [
    "**Corpora Annotation and Utilities**\n",
    "\n",
    "\n",
    "\n",
    "\n",
    "Text corpora are annotated with rich metadata, which is extremely useful for getting valuable insights when utilizing the corpora for NLP and text analytics. Popular annotations for text corpora include tagging parts of speech (POS) tags, word stems, lemmas, and many more. Here are some of the most used methods and techniques for annotating text corpora:\n",
    "\n",
    "\n",
    "**POS tagging:** This is mainly used to annotate each word with a POS tag indicating the part of speech associated with it. <br>\n",
    "**Word stems:** A stem for a word is a part of the word to which various affixes can be attached.<br>\n",
    "**Word lemmas:** A lemma is the canonical or base form for a set of words and is also known as the head word.<br>\n",
    "**Dependency grammar:** This includes finding out the various relationships among the components in sentences and annotating the dependencies.<br>\n",
    "**Constituency grammar:** This is used to add syntactic annotation to sentences based on their constituents including phrases and clauses.<br>\n",
    "**Semantic types and roles:** The various constituents of sentences including words and phrases are annotated with specific semantic types and roles, often obtained from an ontology, which indicates what they do. These include things like place, person, time, organization, agent, recipient, theme, and so forth."
   ]
  },
  {
   "cell_type": "markdown",
   "id": "120b64a7",
   "metadata": {},
   "source": [
    "### The preprocessing is being done on the \"tweet\" as that is section we want to process\n",
    "\n",
    "### In our instance, we would include the following steps for our preprocessing:\n",
    "Lower case <br>\n",
    "Removing Emojis <br>\n",
    "Tokenizing, removing links etc. <br>\n",
    "Removing stopwords Normalizing words via lemmatizing <br>"
   ]
  },
  {
   "cell_type": "markdown",
   "id": "ff87e27b",
   "metadata": {},
   "source": [
    "### We are converting the \"tweets\" into a list to make it easier for preprocessing"
   ]
  },
  {
   "cell_type": "code",
   "execution_count": 81,
   "id": "992dd4da",
   "metadata": {},
   "outputs": [
    {
     "data": {
      "text/plain": [
       "0     Giga Texas: 6 months ago vs this week  https://t.co/CAgmIJ3wKQ                                                                                                    \n",
       "1     Music video filmed using Tesla Sentry Mode  https://t.co/g7ZYub2NH5                                                                                               \n",
       "2     Solar Roof is designed to withstand heavy storms, hail and even medium-size tree branches  https://t.co/IvTROrPC0j                                                \n",
       "3     You can stream Netflix &amp; YouTube, play video games or sing Caraoke in your Tesla 📺🎮🎤                                                                          \n",
       "4     To activate, tap Software → long press model name → type holidays or ModelXMas                                                                                    \n",
       "                                           ...                                                                                                                          \n",
       "95    @HarryStoltz1 F                                                                                                                                                   \n",
       "96    Do you want a sneak peek of our crash lab?  Of course you do.   It’s one of the reasons why Model 3 is among the safest cars on the road.  https://t.co/jQxWizz0ea\n",
       "97    @Super_modi_ we're good                                                                                                                                           \n",
       "98    @Super_modi_ CAR                                                                                                                                                  \n",
       "99    @Super_modi_ CAR-aoke guys                                                                                                                                        \n",
       "Name: tweet, Length: 100, dtype: object"
      ]
     },
     "execution_count": 81,
     "metadata": {},
     "output_type": "execute_result"
    }
   ],
   "source": [
    "newdf = df[str('tweet')]  \n",
    "\n",
    "newdf"
   ]
  },
  {
   "cell_type": "code",
   "execution_count": 82,
   "id": "d1fccaab",
   "metadata": {},
   "outputs": [
    {
     "name": "stderr",
     "output_type": "stream",
     "text": [
      "/var/folders/xk/xzsh5hpj1tj6xwdckxm3yzfc0000gn/T/ipykernel_36536/2475433900.py:1: FutureWarning: Passing a negative integer is deprecated in version 1.0 and will not be supported in future version. Instead, use None to not limit the column width.\n",
      "  pd.set_option(\"display.max_colwidth\", -1)\n"
     ]
    }
   ],
   "source": [
    "pd.set_option(\"display.max_colwidth\", -1)"
   ]
  },
  {
   "cell_type": "markdown",
   "id": "0000d211",
   "metadata": {},
   "source": [
    "### Dont run this function -- this is a more complex function to process complicated url's that otherwise re cant handle"
   ]
  },
  {
   "cell_type": "code",
   "execution_count": 306,
   "id": "4bdc2954",
   "metadata": {},
   "outputs": [],
   "source": [
    "def process_URLs(transient_tweet_text):\n",
    "\t'''\n",
    "\treplace all URLs in the tweet text\n",
    "\t'''\n",
    "\tUrlStart1 = regex_or('https?://', r'www\\.',r'bit.ly/')\n",
    "\tCommonTLDs = regex_or('com','co\\\\.uk','org','net','info','ca','biz','info','edu','in','au')\n",
    "\tUrlStart2 = r'[a-z0-9\\.-]+?' + r'\\.' + CommonTLDs + pos_lookahead(r'[/ \\W\\b]')\n",
    "\tUrlBody = r'[^ \\t\\r\\n<>]*?'  # * not + for case of:  \"go to bla.com.\" -- don't want period\n",
    "\tUrlExtraCrapBeforeEnd = '%s+?' % regex_or(PunctChars, Entity)\n",
    "\tUrlEnd = regex_or( r'\\.\\.+', r'[<>]', r'\\s', '$')\n",
    "\tUrl = \t(optional(r'\\b') + \n",
    "    \t\tregex_or(UrlStart1, UrlStart2) + \n",
    "    \t\tUrlBody + \n",
    "    pos_lookahead( optional(UrlExtraCrapBeforeEnd) + UrlEnd))\n",
    "\n",
    "\tUrl_RE = re.compile(\"(%s)\" % Url, re.U|re.I)\n",
    "\ttransient_tweet_text = re.sub(Url_RE, \" constanturl \", transient_tweet_text)\n",
    "\n",
    "\t# Fix to handle unicodes in URL.\n",
    "\n",
    "\tURL_regex2 = r'\\b(htt)[p\\:\\/]*([\\\\x\\\\u][a-z0-9]*)*'\n",
    "\ttransient_tweet_text = re.sub(URL_regex2, \" constanturl \", transient_tweet_text)\n",
    "\treturn transient_tweet_text"
   ]
  },
  {
   "cell_type": "code",
   "execution_count": 83,
   "id": "6b0ec159",
   "metadata": {},
   "outputs": [
    {
     "data": {
      "text/plain": [
       "\"0     Giga Texas: 6 months ago vs this week                                                                                                      \\n1     Music video filmed using Tesla Sentry Mode                                                                                                 \\n2     Solar Roof is designed to withstand heavy storms, hail and even medium-size tree branches                                                  \\n3     You can stream\\xa0Netflix &amp; YouTube, play video games or sing Caraoke\\xa0in your Tesla 📺🎮🎤                                                                          \\n4     To activate, tap Software → long press model name → type holidays or ModelXMas                                                                                    \\n                                           ...                                                                                                                          \\n95    @HarryStoltz1 F                                                                                                                                                   \\n96    Do you want a sneak peek of our crash lab?  Of course you do.   It’s one of the reasons why Model 3 is among the safest cars on the road.  \\n97    @Super_modi_ we're good                                                                                                                                           \\n98    @Super_modi_ CAR                                                                                                                                                  \\n99    @Super_modi_ CAR-aoke guys                                                                                                                                        \\nName: tweet, Length: 100, dtype: object\""
      ]
     },
     "execution_count": 83,
     "metadata": {},
     "output_type": "execute_result"
    }
   ],
   "source": [
    "result = re.sub(r\"http\\S+\", \"\", str(newdf))\n",
    "\n",
    "result"
   ]
  },
  {
   "cell_type": "code",
   "execution_count": 84,
   "id": "8f663f5f",
   "metadata": {},
   "outputs": [],
   "source": [
    "#function to clear spelling mistakes\n",
    "\n",
    "\n",
    "def prune_multple_consecutive_same_char(transient_tweet_text):\n",
    "\t'''\n",
    "\tyesssssssss  is converted to yess \n",
    "\tssssssssssh is converted to ssh\n",
    "\t'''\n",
    "\ttransient_tweet_text = re.sub(r'(.)\\1+', r'\\1\\1', transient_tweet_text)\n",
    "\treturn transient_tweet_text"
   ]
  },
  {
   "cell_type": "code",
   "execution_count": 85,
   "id": "486b1ea5",
   "metadata": {},
   "outputs": [
    {
     "data": {
      "text/plain": [
       "\"0  Giga Texas: 6 months ago vs this week  \\n1  Music video filmed using Tesla Sentry Mode  \\n2  Solar Roof is designed to withstand heavy storms, hail and even medium-size tree branches  \\n3  You can stream\\xa0Netflix &amp; YouTube, play video games or sing Caraoke\\xa0in your Tesla 📺🎮🎤  \\n4  To activate, tap Software → long press model name → type holidays or ModelXMas  \\n  ..  \\n95  @HarryStoltz1 F  \\n96  Do you want a sneak peek of our crash lab?  Of course you do.  It’s one of the reasons why Model 3 is among the safest cars on the road.  \\n97  @Super_modi_ we're good  \\n98  @Super_modi_ CAR  \\n99  @Super_modi_ CAR-aoke guys  \\nName: tweet, Length: 100, dtype: object\""
      ]
     },
     "execution_count": 85,
     "metadata": {},
     "output_type": "execute_result"
    }
   ],
   "source": [
    "prune_multple_consecutive_same_char(result)"
   ]
  },
  {
   "cell_type": "code",
   "execution_count": 86,
   "id": "413839e9",
   "metadata": {},
   "outputs": [
    {
     "data": {
      "text/plain": [
       "['0     Giga Texas: 6 months ago vs this week                                                                                                      ',\n",
       " '1     Music video filmed using Tesla Sentry Mode                                                                                                 ',\n",
       " '2     Solar Roof is designed to withstand heavy storms, hail and even medium-size tree branches                                                  ',\n",
       " '3     You can stream\\xa0Netflix &amp; YouTube, play video games or sing Caraoke\\xa0in your Tesla 📺🎮🎤                                                                          ',\n",
       " '4     To activate, tap Software → long press model name → type holidays or ModelXMas                                                                                    ',\n",
       " '                                           ...                                                                                                                          ',\n",
       " '95    @HarryStoltz1 F                                                                                                                                                   ',\n",
       " '96    Do you want a sneak peek of our crash lab?  Of course you do.   It’s one of the reasons why Model 3 is among the safest cars on the road.  ',\n",
       " \"97    @Super_modi_ we're good                                                                                                                                           \",\n",
       " '98    @Super_modi_ CAR                                                                                                                                                  ',\n",
       " '99    @Super_modi_ CAR-aoke guys                                                                                                                                        ',\n",
       " 'Name: tweet, Length: 100, dtype: object']"
      ]
     },
     "execution_count": 86,
     "metadata": {},
     "output_type": "execute_result"
    }
   ],
   "source": [
    "result = result.split(\"\\n\")\n",
    "result"
   ]
  },
  {
   "cell_type": "code",
   "execution_count": 37,
   "id": "c05a7e9c",
   "metadata": {},
   "outputs": [],
   "source": [
    "#removing all emojis\n",
    "\n",
    "def remove_emoji(transient_tweet_text):\n",
    "    '''\n",
    "    replace emoji with the respective emotion\n",
    "    '''\n",
    "    tweet_tokenizer = TweetTokenizer()\n",
    "    tokenized_tweet = tweet_tokenizer.tokenize(transient_tweet_text)\n",
    "    emojis_present = demoji.findall(transient_tweet_text)\n",
    "    tweet_no_emoji=''\n",
    "    for i,s in enumerate(tokenized_tweet):\n",
    "        if s in emojis_present.keys():\n",
    "            tweet_no_emoji = tweet_no_emoji + ' ' + emojis_present[s]\n",
    "        else:\n",
    "            tweet_no_emoji = tweet_no_emoji + ' ' + s\n",
    "    return tweet_no_emoji"
   ]
  },
  {
   "cell_type": "code",
   "execution_count": 38,
   "id": "53570ba5",
   "metadata": {
    "scrolled": true
   },
   "outputs": [
    {
     "data": {
      "text/plain": [
       "' [ \\' 0 Giga Texas : 6 months ago vs this week \\' , \\' 1 Music video filmed using Tesla Sentry Mode \\' , \\' 2 Solar Roof is designed to withstand heavy storms , hail and even medium-size tree branches \\' , \\' 3 You can stream \\\\ xa0Netflix & YouTube , play video games or sing Caraoke \\\\ xa0in your Tesla television video game microphone \\' , \\' 4 To activate , tap Software → long press model name → type holidays or ModelXMas \\' , \\' ... \\' , \\' 95 @HarryStoltz1 F \\' , \\' 96 Do you want a sneak peek of our crash lab ? Of course you do . It ’ s one of the reasons why Model 3 is among the safest cars on the road . \\' , \" 97 @Super_modi_ we\\'re good \" , \\' 98 @Super_modi_ CAR \\' , \\' 99 @Super_modi_ CAR-aoke guys \\' , \\' Name : tweet , Length : 100 , dtype : object \\' ]'"
      ]
     },
     "execution_count": 38,
     "metadata": {},
     "output_type": "execute_result"
    }
   ],
   "source": [
    "remove_emoji(str(result))"
   ]
  },
  {
   "cell_type": "code",
   "execution_count": 39,
   "id": "7e1c9487",
   "metadata": {},
   "outputs": [],
   "source": [
    "from pandas import DataFrame"
   ]
  },
  {
   "cell_type": "code",
   "execution_count": 40,
   "id": "bb1765e3",
   "metadata": {},
   "outputs": [
    {
     "data": {
      "text/html": [
       "<div>\n",
       "<style scoped>\n",
       "    .dataframe tbody tr th:only-of-type {\n",
       "        vertical-align: middle;\n",
       "    }\n",
       "\n",
       "    .dataframe tbody tr th {\n",
       "        vertical-align: top;\n",
       "    }\n",
       "\n",
       "    .dataframe thead th {\n",
       "        text-align: right;\n",
       "    }\n",
       "</style>\n",
       "<table border=\"1\" class=\"dataframe\">\n",
       "  <thead>\n",
       "    <tr style=\"text-align: right;\">\n",
       "      <th></th>\n",
       "      <th>tweets</th>\n",
       "    </tr>\n",
       "  </thead>\n",
       "  <tbody>\n",
       "    <tr>\n",
       "      <th>0</th>\n",
       "      <td>0     Giga Texas: 6 months ago vs this week</td>\n",
       "    </tr>\n",
       "    <tr>\n",
       "      <th>1</th>\n",
       "      <td>1     Music video filmed using Tesla Sentry Mode</td>\n",
       "    </tr>\n",
       "    <tr>\n",
       "      <th>2</th>\n",
       "      <td>2     Solar Roof is designed to withstand heavy storms, hail and even medium-size tree branches</td>\n",
       "    </tr>\n",
       "    <tr>\n",
       "      <th>3</th>\n",
       "      <td>3     You can stream Netflix &amp;amp; YouTube, play video games or sing Caraoke in your Tesla 📺🎮🎤</td>\n",
       "    </tr>\n",
       "    <tr>\n",
       "      <th>4</th>\n",
       "      <td>4     To activate, tap Software → long press model name → type holidays or ModelXMas</td>\n",
       "    </tr>\n",
       "    <tr>\n",
       "      <th>5</th>\n",
       "      <td>...</td>\n",
       "    </tr>\n",
       "    <tr>\n",
       "      <th>6</th>\n",
       "      <td>95    @HarryStoltz1 F</td>\n",
       "    </tr>\n",
       "    <tr>\n",
       "      <th>7</th>\n",
       "      <td>96    Do you want a sneak peek of our crash lab?  Of course you do.   It’s one of the reasons why Model 3 is among the safest cars on the road.</td>\n",
       "    </tr>\n",
       "    <tr>\n",
       "      <th>8</th>\n",
       "      <td>97    @Super_modi_ we're good</td>\n",
       "    </tr>\n",
       "    <tr>\n",
       "      <th>9</th>\n",
       "      <td>98    @Super_modi_ CAR</td>\n",
       "    </tr>\n",
       "    <tr>\n",
       "      <th>10</th>\n",
       "      <td>99    @Super_modi_ CAR-aoke guys</td>\n",
       "    </tr>\n",
       "    <tr>\n",
       "      <th>11</th>\n",
       "      <td>Name: tweet, Length: 100, dtype: object</td>\n",
       "    </tr>\n",
       "  </tbody>\n",
       "</table>\n",
       "</div>"
      ],
      "text/plain": [
       "                                                                                                                                                                      tweets\n",
       "0   0     Giga Texas: 6 months ago vs this week                                                                                                                             \n",
       "1   1     Music video filmed using Tesla Sentry Mode                                                                                                                        \n",
       "2   2     Solar Roof is designed to withstand heavy storms, hail and even medium-size tree branches                                                                         \n",
       "3   3     You can stream Netflix &amp; YouTube, play video games or sing Caraoke in your Tesla 📺🎮🎤                                                                          \n",
       "4   4     To activate, tap Software → long press model name → type holidays or ModelXMas                                                                                    \n",
       "5                                              ...                                                                                                                          \n",
       "6   95    @HarryStoltz1 F                                                                                                                                                   \n",
       "7   96    Do you want a sneak peek of our crash lab?  Of course you do.   It’s one of the reasons why Model 3 is among the safest cars on the road.                         \n",
       "8   97    @Super_modi_ we're good                                                                                                                                           \n",
       "9   98    @Super_modi_ CAR                                                                                                                                                  \n",
       "10  99    @Super_modi_ CAR-aoke guys                                                                                                                                        \n",
       "11  Name: tweet, Length: 100, dtype: object                                                                                                                                 "
      ]
     },
     "execution_count": 40,
     "metadata": {},
     "output_type": "execute_result"
    }
   ],
   "source": [
    "result = DataFrame (result,columns=['tweets'])\n",
    "\n",
    "result"
   ]
  },
  {
   "cell_type": "code",
   "execution_count": 41,
   "id": "242751cf",
   "metadata": {},
   "outputs": [],
   "source": [
    "new_result = result['tweets'].to_string() \n",
    "\n"
   ]
  },
  {
   "cell_type": "code",
   "execution_count": 42,
   "id": "408251c3",
   "metadata": {},
   "outputs": [
    {
     "data": {
      "text/plain": [
       "str"
      ]
     },
     "execution_count": 42,
     "metadata": {},
     "output_type": "execute_result"
    }
   ],
   "source": [
    "type(new_result)"
   ]
  },
  {
   "cell_type": "code",
   "execution_count": null,
   "id": "2e01fb88",
   "metadata": {},
   "outputs": [],
   "source": []
  },
  {
   "cell_type": "code",
   "execution_count": 87,
   "id": "8389eecf",
   "metadata": {},
   "outputs": [],
   "source": [
    "def to_LowerCase(transient_tweet_text):\n",
    "    '''\n",
    "\tConvert tweet text to lower to lower case alphabets\n",
    "\t'''\n",
    "    transient_tweet_text = transient_tweet_text.lower()\n",
    "    return transient_tweet_text"
   ]
  },
  {
   "cell_type": "code",
   "execution_count": null,
   "id": "9ed988d8",
   "metadata": {},
   "outputs": [],
   "source": []
  },
  {
   "cell_type": "code",
   "execution_count": 88,
   "id": "d556300a",
   "metadata": {
    "scrolled": true
   },
   "outputs": [
    {
     "data": {
      "text/plain": [
       "\" 0 0 giga texas : 6 months ago vs this week 1 1 music video filmed using tesla sentry mode 2 2 solar roof is designed to withstand heavy storms , hail and even medium-size tree branches 3 3 you can stream netflix & youtube , play video games or sing caraoke in your tesla television video game microphone 4 4 to activate , tap software → long press model name → type holidays or modelxmas 5 ... 6 95 @harrystoltz1 f 7 96 do you want a sneak peek of our crash lab ? of course you do . it ’ s one of the reasons why model 3 is among the safest cars on the road . 8 97 @super_modi_ we're good 9 98 @super_modi_ car 10 99 @super_modi_ car-aoke guys 11 name : tweet , length : 100 , dtype : object\""
      ]
     },
     "execution_count": 88,
     "metadata": {},
     "output_type": "execute_result"
    }
   ],
   "source": [
    "new_result = to_LowerCase(new_result)\n",
    "\n",
    "new_result"
   ]
  },
  {
   "cell_type": "code",
   "execution_count": 89,
   "id": "ad9e5548",
   "metadata": {},
   "outputs": [],
   "source": [
    "#removing all emojis\n",
    "\n",
    "def remove_emoji(transient_tweet_text):\n",
    "    '''\n",
    "    replace emoji with the respective emotion\n",
    "    '''\n",
    "    tweet_tokenizer = TweetTokenizer()\n",
    "    tokenized_tweet = tweet_tokenizer.tokenize(transient_tweet_text)\n",
    "    emojis_present = demoji.findall(transient_tweet_text)\n",
    "    tweet_no_emoji=''\n",
    "    for i,s in enumerate(tokenized_tweet):\n",
    "        if s in emojis_present.keys():\n",
    "            tweet_no_emoji = tweet_no_emoji + ' ' + emojis_present[s]\n",
    "        else:\n",
    "            tweet_no_emoji = tweet_no_emoji + ' ' + s\n",
    "    return tweet_no_emoji"
   ]
  },
  {
   "cell_type": "code",
   "execution_count": 90,
   "id": "3cd4fa0e",
   "metadata": {},
   "outputs": [
    {
     "data": {
      "text/plain": [
       "\" 0 0 giga texas : 6 months ago vs this week 1 1 music video filmed using tesla sentry mode 2 2 solar roof is designed to withstand heavy storms , hail and even medium-size tree branches 3 3 you can stream netflix & youtube , play video games or sing caraoke in your tesla television video game microphone 4 4 to activate , tap software → long press model name → type holidays or modelxmas 5 ... 6 95 @harrystoltz1 f 7 96 do you want a sneak peek of our crash lab ? of course you do . it ’ s one of the reasons why model 3 is among the safest cars on the road . 8 97 @super_modi_ we're good 9 98 @super_modi_ car 10 99 @super_modi_ car-aoke guys 11 name : tweet , length : 100 , dtype : object\""
      ]
     },
     "execution_count": 90,
     "metadata": {},
     "output_type": "execute_result"
    }
   ],
   "source": [
    "new_result = remove_emoji(new_result)\n",
    "\n",
    "new_result"
   ]
  },
  {
   "cell_type": "code",
   "execution_count": 91,
   "id": "f80bf55d",
   "metadata": {},
   "outputs": [],
   "source": [
    "def strip_unicode(transient_tweet_text):\n",
    "    '''\n",
    "    Strip all unicode characters from a tweet\n",
    "    '''\n",
    "    tweet = ''.join(i for i in transient_tweet_text if ord(i)<128)\n",
    "    return tweet "
   ]
  },
  {
   "cell_type": "code",
   "execution_count": 92,
   "id": "f9529b02",
   "metadata": {},
   "outputs": [],
   "source": [
    "clean_tweets = strip_unicode(new_result)"
   ]
  },
  {
   "cell_type": "code",
   "execution_count": 93,
   "id": "cfd823ab",
   "metadata": {},
   "outputs": [
    {
     "data": {
      "text/plain": [
       "\" 0 0 giga texas : 6 months ago vs this week 1 1 music video filmed using tesla sentry mode 2 2 solar roof is designed to withstand heavy storms , hail and even medium-size tree branches 3 3 you can stream netflix & youtube , play video games or sing caraoke in your tesla television video game microphone 4 4 to activate , tap software  long press model name  type holidays or modelxmas 5 ... 6 95 @harrystoltz1 f 7 96 do you want a sneak peek of our crash lab ? of course you do . it  s one of the reasons why model 3 is among the safest cars on the road . 8 97 @super_modi_ we're good 9 98 @super_modi_ car 10 99 @super_modi_ car-aoke guys 11 name : tweet , length : 100 , dtype : object\""
      ]
     },
     "execution_count": 93,
     "metadata": {},
     "output_type": "execute_result"
    }
   ],
   "source": [
    "clean_tweets\n"
   ]
  },
  {
   "cell_type": "code",
   "execution_count": 94,
   "id": "7568994a",
   "metadata": {},
   "outputs": [],
   "source": [
    "\n",
    "def process_Mentions(transient_tweet_text):\n",
    "    '''\n",
    "\tIdentify mentions if any\n",
    "\t'''\n",
    "    transient_tweet_text = re.sub(r\"@(\\w+)\",\" \", transient_tweet_text)\n",
    "    return transient_tweet_text"
   ]
  },
  {
   "cell_type": "code",
   "execution_count": 95,
   "id": "7a5d4670",
   "metadata": {
    "scrolled": true
   },
   "outputs": [
    {
     "data": {
      "text/plain": [
       "\" 0 0 giga texas : 6 months ago vs this week 1 1 music video filmed using tesla sentry mode 2 2 solar roof is designed to withstand heavy storms , hail and even medium-size tree branches 3 3 you can stream netflix & youtube , play video games or sing caraoke in your tesla television video game microphone 4 4 to activate , tap software  long press model name  type holidays or modelxmas 5 ... 6 95   f 7 96 do you want a sneak peek of our crash lab ? of course you do . it  s one of the reasons why model 3 is among the safest cars on the road . 8 97   we're good 9 98   car 10 99   car-aoke guys 11 name : tweet , length : 100 , dtype : object\""
      ]
     },
     "execution_count": 95,
     "metadata": {},
     "output_type": "execute_result"
    }
   ],
   "source": [
    "process_Mentions(clean_tweets)"
   ]
  },
  {
   "cell_type": "code",
   "execution_count": 99,
   "id": "cc1b38ac",
   "metadata": {},
   "outputs": [],
   "source": [
    "def process_HashTags(transient_tweet_text):\n",
    "    '''\n",
    "\tStrip all Hashtags from a tweet\n",
    "\t'''\n",
    "    transient_tweet_text = re.sub(r\"#(\\w+)\\b\", '', transient_tweet_text)\n",
    "    return transient_tweet_text"
   ]
  },
  {
   "cell_type": "code",
   "execution_count": 100,
   "id": "d01465d1",
   "metadata": {},
   "outputs": [
    {
     "data": {
      "text/plain": [
       "\" 0 0 giga texas : 6 months ago vs this week 1 1 music video filmed using tesla sentry mode 2 2 solar roof is designed to withstand heavy storms , hail and even medium-size tree branches 3 3 you can stream netflix & youtube , play video games or sing caraoke in your tesla television video game microphone 4 4 to activate , tap software  long press model name  type holidays or modelxmas 5 ... 6 95 @harrystoltz1 f 7 96 do you want a sneak peek of our crash lab ? of course you do . it  s one of the reasons why model 3 is among the safest cars on the road . 8 97 @super_modi_ we're good 9 98 @super_modi_ car 10 99 @super_modi_ car-aoke guys 11 name : tweet , length : 100 , dtype : object\""
      ]
     },
     "execution_count": 100,
     "metadata": {},
     "output_type": "execute_result"
    }
   ],
   "source": [
    "clean_tweet = process_HashTags(clean_tweets)\n",
    "\n",
    "clean_tweet"
   ]
  },
  {
   "cell_type": "code",
   "execution_count": 101,
   "id": "cabeb761",
   "metadata": {},
   "outputs": [
    {
     "data": {
      "text/plain": [
       "str"
      ]
     },
     "execution_count": 101,
     "metadata": {},
     "output_type": "execute_result"
    }
   ],
   "source": [
    "type(clean_tweet)"
   ]
  },
  {
   "cell_type": "markdown",
   "id": "504da6b2",
   "metadata": {},
   "source": [
    "### Do function to clean an automate diff parts\n",
    "\n",
    "\n",
    "source for some parts https://catriscode.com/2021/05/01/tweets-cleaning-with-python/"
   ]
  },
  {
   "cell_type": "code",
   "execution_count": 119,
   "id": "6a70885a",
   "metadata": {},
   "outputs": [
    {
     "data": {
      "text/plain": [
       "\" 0 0 giga texas : 6 months ago vs this week 1 1 music video filmed using tesla sentry mode 2 2 solar roof is designed to withstand heavy storms , hail and even medium-size tree branches 3 3 you can stream netflix & youtube , play video games or sing caraoke in your tesla television video game microphone 4 4 to activate , tap software  long press model name  type holidays or modelxmas 5 ... 6 95 @harrystoltz1 f 7 96 do you want a sneak peek of our crash lab ? of course you do . it  s one of the reasons why model 3 is among the safest cars on the road . 8 97 @super_modi_ we're good 9 98 @super_modi_ car 10 99 @super_modi_ car-aoke guys 11 name : tweet , length : 100 , dtype : object\""
      ]
     },
     "execution_count": 119,
     "metadata": {},
     "output_type": "execute_result"
    }
   ],
   "source": [
    "clean_tweet = re.sub(\"#\\S+\", \" \", clean_tweet)\n",
    "\n",
    "\n",
    "clean_tweet"
   ]
  },
  {
   "cell_type": "code",
   "execution_count": 318,
   "id": "e90c17bf",
   "metadata": {},
   "outputs": [],
   "source": [
    "def clean_text(text):\n",
    "    pass"
   ]
  },
  {
   "cell_type": "code",
   "execution_count": null,
   "id": "7ac020dd",
   "metadata": {},
   "outputs": [],
   "source": []
  },
  {
   "cell_type": "code",
   "execution_count": 103,
   "id": "41602133",
   "metadata": {
    "scrolled": true
   },
   "outputs": [
    {
     "name": "stdout",
     "output_type": "stream",
     "text": [
      "['harrystoltz1', 'super_modi_', 'super_modi_', 'super_modi_']\n"
     ]
    }
   ],
   "source": [
    "mentions = re.findall(\"@([a-zA-Z0-9_]{1,50})\", clean_tweet)\n",
    "\n",
    "print(mentions)"
   ]
  },
  {
   "cell_type": "markdown",
   "id": "110d1197",
   "metadata": {},
   "source": [
    "### Finding & Removing hastags"
   ]
  },
  {
   "cell_type": "code",
   "execution_count": 104,
   "id": "cf5a8671",
   "metadata": {},
   "outputs": [
    {
     "name": "stdout",
     "output_type": "stream",
     "text": [
      "[]\n"
     ]
    }
   ],
   "source": [
    "\n",
    "#no hastags in our df but works for hashtags\n",
    "\n",
    "hashtags = re.findall(\"#([a-zA-Z0-9_]{1,50})\", clean_tweet)\n",
    "print(hashtags)\n",
    "\n",
    "# removing hashtags\n",
    "clean_tweet = re.sub(\"#[A-Za-z0-9_]+\",\"\", clean_tweet)"
   ]
  },
  {
   "cell_type": "markdown",
   "id": "63da66a2",
   "metadata": {},
   "source": [
    "## Removing mentions"
   ]
  },
  {
   "cell_type": "code",
   "execution_count": 160,
   "id": "64702335",
   "metadata": {},
   "outputs": [
    {
     "data": {
      "text/plain": [
       "\" 0 0 giga texas : 6 months ago vs this week 1 1 music video filmed using tesla sentry mode 2 2 solar roof is designed to withstand heavy storms , hail and even medium-size tree branches 3 3 you can stream netflix & youtube , play video games or sing caraoke in your tesla television video game microphone 4 4 to activate , tap software  long press model name  type holidays or modelxmas 5 ... 6 95  f 7 96 do you want a sneak peek of our crash lab ? of course you do . it  s one of the reasons why model 3 is among the safest cars on the road . 8 97  we're good 9 98  car 10 99  car-aoke guys 11 name : tweet , length : 100 , dtype : object\""
      ]
     },
     "execution_count": 160,
     "metadata": {},
     "output_type": "execute_result"
    }
   ],
   "source": [
    "import pandas as pd\n",
    "pd.set_option('display.max_columns', None)\n",
    "pd.set_option('display.max_rows', None)\n",
    "\n",
    "clean_tweets = re.sub(\"@[A-Za-z0-9_]+\",\"\", clean_tweet)\n",
    "\n",
    "clean_tweets"
   ]
  },
  {
   "cell_type": "code",
   "execution_count": 159,
   "id": "d174d33d",
   "metadata": {},
   "outputs": [
    {
     "data": {
      "text/plain": [
       "' 0 0 giga texas   6 months ago vs this week 1 1 music video filmed using tesla sentry mode 2 2 solar roof is designed to withstand heavy storms   hail and even medium size tree branches 3 3 you can stream netflix   youtube   play video games or sing caraoke in your tesla television video game microphone 4 4 to activate   tap software  long press model name  type holidays or modelxmas 5     6 95  f 7 96 do you want a sneak peek of our crash lab   of course you do   it  s one of the reasons why model 3 is among the safest cars on the road   8 97  we re good 9 98  car 10 99  car aoke guys 11 name   tweet   length   100   dtype   object'"
      ]
     },
     "execution_count": 159,
     "metadata": {},
     "output_type": "execute_result"
    }
   ],
   "source": [
    "#Removing all the Non-Alphanumeric characters\n",
    "\n",
    "clean_tweets = re.sub(\"[^a-z0-9]\",\" \", clean_tweets)\n",
    "\n",
    "clean_tweets"
   ]
  },
  {
   "cell_type": "code",
   "execution_count": 161,
   "id": "168b444c",
   "metadata": {},
   "outputs": [
    {
     "data": {
      "text/plain": [
       "'giga texas months ago vs this week music video filmed using tesla sentry mode solar roof is designed to withstand heavy storms hail and even mediumsize tree branches you can stream netflix youtube play video games or sing caraoke in your tesla television video game microphone to activate tap software long press model name type holidays or modelxmas f do you want a sneak peek of our crash lab of course you do it s one of the reasons why model is among the safest cars on the road were good car caraoke guys name tweet length dtype object'"
      ]
     },
     "execution_count": 161,
     "metadata": {},
     "output_type": "execute_result"
    }
   ],
   "source": [
    "#Removing numbers and whitespace and convert to lowercase\n",
    "\n",
    "def clean_text(text):\n",
    "    # remove numbers\n",
    "    text_nonum = re.sub(r'\\d+', '', text)\n",
    "    # substitute multiple whitespace with single whitespace\n",
    "    # remove punctuations and convert characters to lower case\n",
    "    text_nopunct = \"\".join([char.lower() for char in text_nonum if char not in string.punctuation]) \n",
    "    # Also, removes leading and trailing whitespaces\n",
    "    text_no_doublespace = re.sub('\\s+', ' ', text_nopunct).strip()\n",
    "    return text_no_doublespace\n",
    "\n",
    "clean_tweets = clean_text(clean_tweets)\n",
    "\n",
    "\n",
    "clean_tweets"
   ]
  },
  {
   "cell_type": "code",
   "execution_count": 112,
   "id": "238baeb0",
   "metadata": {},
   "outputs": [
    {
     "name": "stderr",
     "output_type": "stream",
     "text": [
      "[nltk_data] Downloading package stopwords to\n",
      "[nltk_data]     /Users/dark_prince/nltk_data...\n",
      "[nltk_data]   Package stopwords is already up-to-date!\n"
     ]
    },
    {
     "data": {
      "text/plain": [
       "True"
      ]
     },
     "execution_count": 112,
     "metadata": {},
     "output_type": "execute_result"
    }
   ],
   "source": [
    "\n",
    "from nltk.corpus import stopwords\n",
    "nltk.download('stopwords')"
   ]
  },
  {
   "cell_type": "markdown",
   "id": "0bec999d",
   "metadata": {},
   "source": [
    "### remove stopwords\n",
    "\n",
    "source https://stackabuse.com/removing-stop-words-from-strings-in-python"
   ]
  },
  {
   "cell_type": "code",
   "execution_count": 162,
   "id": "48946588",
   "metadata": {
    "scrolled": true
   },
   "outputs": [
    {
     "name": "stdout",
     "output_type": "stream",
     "text": [
      "giga texas months ago vs week music video filmed using tesla sentry mode solar roof designed withstand heavy storms hail even mediumsize tree branches stream netflix youtube play video games sing caraoke tesla television video game microphone activate tap software long press model name type holidays modelxmas f want sneak peek crash lab course one reasons model among safest cars road good car caraoke guys name tweet length dtype object\n"
     ]
    }
   ],
   "source": [
    "\n",
    "\n",
    "all_stopwords = stopwords.words('english')\n",
    "all_stopwords.remove('not')\n",
    "clean_tweets = ' '.join([word for word in clean_tweets.split(' ') if word not in all_stopwords])\n",
    "print(clean_tweets)"
   ]
  },
  {
   "cell_type": "code",
   "execution_count": null,
   "id": "0cfc9bd2",
   "metadata": {},
   "outputs": [],
   "source": []
  },
  {
   "cell_type": "markdown",
   "id": "2f24c433",
   "metadata": {},
   "source": [
    "##### STEMMING \n",
    "\n",
    "Word stems are also often known as the base form of a word and we can create new words by attaching affixes to them. This process is known as inflection. The reverse of this is obtaining the base form of a word from its inflected form and this is known as stemming. Consider the word “JUMP”, you can add affixes to it and form several new words like “JUMPS”, “JUMPED”, and “JUMPING”. In this case, the base word is “JUMP” and this is the word stem.\n",
    "\n",
    "\n",
    "![title](IMG/picture.png)"
   ]
  },
  {
   "cell_type": "code",
   "execution_count": 163,
   "id": "952d0001",
   "metadata": {},
   "outputs": [
    {
     "data": {
      "text/plain": [
       "'giga texa month ago vs week music video film use tesla sentri mode solar roof design withstand heavi storm hail even mediums tree branch stream netflix youtub play video game sing caraok tesla televis video game microphon activ tap softwar long press model name type holiday modelxma f want sneak peek crash lab cours one reason model among safest car road good car caraok guy name tweet length dtype object'"
      ]
     },
     "execution_count": 163,
     "metadata": {},
     "output_type": "execute_result"
    }
   ],
   "source": [
    "def simple_stemmer(text):\n",
    "    ps = nltk.porter.PorterStemmer()\n",
    "    text = ' '.join([ps.stem(word) for word in text.split()])\n",
    "    return text\n",
    "\n",
    "clean_tweets = simple_stemmer(clean_tweets)\n",
    "\n",
    "clean_tweets"
   ]
  },
  {
   "cell_type": "markdown",
   "id": "480e9374",
   "metadata": {},
   "source": [
    "### Lemmatization\n",
    "The process of lemmatization is very similar to stemming, where we remove word affixes to get to a base form of the word. However in this case, this base form is also known\n",
    "as the root word but not the root stem.\n",
    "\n",
    "https://towardsdatascience.com/a-beginners-guide-to-stemming-in-natural-language-processing-34ddee4acd37"
   ]
  },
  {
   "cell_type": "code",
   "execution_count": 141,
   "id": "d069b34a",
   "metadata": {},
   "outputs": [
    {
     "name": "stderr",
     "output_type": "stream",
     "text": [
      "[nltk_data] Downloading package wordnet to\n",
      "[nltk_data]     /Users/dark_prince/nltk_data...\n",
      "[nltk_data]   Package wordnet is already up-to-date!\n"
     ]
    },
    {
     "data": {
      "text/plain": [
       "True"
      ]
     },
     "execution_count": 141,
     "metadata": {},
     "output_type": "execute_result"
    }
   ],
   "source": [
    "import nltk\n",
    "nltk.download('wordnet')\n",
    "\n",
    "\n"
   ]
  },
  {
   "cell_type": "code",
   "execution_count": 116,
   "id": "99d3bc12",
   "metadata": {},
   "outputs": [
    {
     "data": {
      "text/plain": [
       "'g i g a   t e x a   m o n t h   a g o   v s   w e e k   m u s i c   v i d e o   f i l m   u s e   t e s l a   s e n t r i   m o d e   s o l a r   r o o f   d e s i g n   w i t h s t a n d   h e a v i   s t o r m   h a i l   e v e n   m e d i u m s   t r e e   b r a n c h   s t r e a m   n e t f l i x   y o u t u b   p l a y   v i d e o   g a m e   s i n g   c a r a o k   t e s l a   t e l e v i s   v i d e o   g a m e   m i c r o p h o n   a c t i v   t a p   s o f t w a r   l o n g   p r e s s   m o d e l   n a m e   t y p e   h o l i d a y   m o d e l x m a   f   w a n t   s n e a k   p e e k   c r a s h   l a b   c o u r s   o n e   r e a s o n   m o d e l   a m o n g   s a f e s t   c a r   r o a d   g o o d   c a r   c a r a o k   g u y   n a m e   t w e e t   l e n g t h   d t y p e   o b j e c t'"
      ]
     },
     "execution_count": 116,
     "metadata": {},
     "output_type": "execute_result"
    }
   ],
   "source": [
    "# Init the Wordnet Lemmatizer\n",
    "lemmatizer = WordNetLemmatizer()\n",
    "lemmatized_output = ' '.join([lemmatizer.lemmatize(w) for w in clean_tweets ])\n",
    "\n",
    "\n",
    "lemmatized_output"
   ]
  },
  {
   "cell_type": "code",
   "execution_count": null,
   "id": "89770685",
   "metadata": {},
   "outputs": [],
   "source": []
  },
  {
   "cell_type": "markdown",
   "id": "396066df",
   "metadata": {},
   "source": [
    "### Tokenise and remove non-essential tokens (e.g. punctuation)\n",
    "\n",
    "**Tokenization** can be defined as the process of breaking down or splitting textual data into smaller and more meaningful components called tokens. In the following sections, we look at some ways to tokenize text into sentences and words.\n",
    "\n",
    "**Word tokenization** Soo is the process of splitting or segmenting sentences into their constituent words. A sentence is a collection of words and with tokenization we essentially split a sentence into a list of words that can be used to reconstruct the sentence. Word tokenization is really important in many processes, especially in cleaning and normalizing text where operations like stemming and lemmatization work on each individual word based on its respective stems and lemma. Similar to sentence tokenization, NLTK provides various useful interfaces for word tokenization. We will touch up on the following main interfaces:\n",
    "• word_tokenize <br>\n",
    "• TreebankWordTokenizer<br>\n",
    "• TokTokTokenizer<br>\n",
    "• RegexpTokenizer<br>\n",
    "• Inherited tokenizers from RegexpTokenizer<br>\n",
    "\n",
    "We are using **NLTK_word_tokenize** for our purpose \n"
   ]
  },
  {
   "cell_type": "code",
   "execution_count": null,
   "id": "f7ea76ca",
   "metadata": {},
   "outputs": [],
   "source": []
  },
  {
   "cell_type": "code",
   "execution_count": null,
   "id": "46431b1e",
   "metadata": {},
   "outputs": [],
   "source": []
  },
  {
   "cell_type": "code",
   "execution_count": 164,
   "id": "3e6b8806",
   "metadata": {},
   "outputs": [
    {
     "data": {
      "text/plain": [
       "array(['giga', 'texa', 'month', 'ago', 'vs', 'week', 'music', 'video',\n",
       "       'film', 'use', 'tesla', 'sentri', 'mode', 'solar', 'roof',\n",
       "       'design', 'withstand', 'heavi', 'storm', 'hail', 'even', 'mediums',\n",
       "       'tree', 'branch', 'stream', 'netflix', 'youtub', 'play', 'video',\n",
       "       'game', 'sing', 'caraok', 'tesla', 'televis', 'video', 'game',\n",
       "       'microphon', 'activ', 'tap', 'softwar', 'long', 'press', 'model',\n",
       "       'name', 'type', 'holiday', 'modelxma', 'f', 'want', 'sneak',\n",
       "       'peek', 'crash', 'lab', 'cours', 'one', 'reason', 'model', 'among',\n",
       "       'safest', 'car', 'road', 'good', 'car', 'caraok', 'guy', 'name',\n",
       "       'tweet', 'length', 'dtype', 'object'], dtype='<U9')"
      ]
     },
     "execution_count": 164,
     "metadata": {},
     "output_type": "execute_result"
    }
   ],
   "source": [
    "# we are using nltk word_tokenize to tokenize the corpus \n",
    "default_wt = nltk.word_tokenize\n",
    "\n",
    "tweets_wt = default_wt(clean_tweets)\n",
    "\n",
    "np.array(tweets_wt)"
   ]
  },
  {
   "cell_type": "code",
   "execution_count": 23,
   "id": "4b9a365d",
   "metadata": {},
   "outputs": [],
   "source": [
    "\n"
   ]
  },
  {
   "cell_type": "markdown",
   "id": "3be42c5b",
   "metadata": {},
   "source": []
  },
  {
   "cell_type": "markdown",
   "id": "7de0f08b",
   "metadata": {},
   "source": []
  },
  {
   "cell_type": "code",
   "execution_count": 24,
   "id": "48068aaa",
   "metadata": {},
   "outputs": [],
   "source": [
    "import matplotlib.pyplot as plt\n",
    "pd.options.display.max_colwidth = 200\n",
    "%matplotlib inline"
   ]
  },
  {
   "cell_type": "code",
   "execution_count": 1,
   "id": "b2fc6873",
   "metadata": {},
   "outputs": [],
   "source": [
    "import pandas as pd\n"
   ]
  },
  {
   "cell_type": "code",
   "execution_count": null,
   "id": "3037bf39",
   "metadata": {},
   "outputs": [],
   "source": []
  },
  {
   "cell_type": "code",
   "execution_count": null,
   "id": "b853f065",
   "metadata": {},
   "outputs": [],
   "source": []
  },
  {
   "cell_type": "code",
   "execution_count": null,
   "id": "133de451",
   "metadata": {},
   "outputs": [],
   "source": []
  },
  {
   "cell_type": "code",
   "execution_count": null,
   "id": "2199798a",
   "metadata": {},
   "outputs": [],
   "source": []
  },
  {
   "cell_type": "code",
   "execution_count": null,
   "id": "cbdcf66d",
   "metadata": {},
   "outputs": [],
   "source": []
  },
  {
   "cell_type": "code",
   "execution_count": null,
   "id": "509e1bdc",
   "metadata": {},
   "outputs": [],
   "source": []
  },
  {
   "cell_type": "code",
   "execution_count": null,
   "id": "62abb61f",
   "metadata": {},
   "outputs": [],
   "source": []
  },
  {
   "cell_type": "code",
   "execution_count": null,
   "id": "9d574274",
   "metadata": {},
   "outputs": [],
   "source": []
  },
  {
   "cell_type": "code",
   "execution_count": null,
   "id": "3c435904",
   "metadata": {},
   "outputs": [],
   "source": []
  },
  {
   "cell_type": "code",
   "execution_count": null,
   "id": "105369cc",
   "metadata": {},
   "outputs": [],
   "source": []
  },
  {
   "cell_type": "code",
   "execution_count": null,
   "id": "3895d249",
   "metadata": {},
   "outputs": [],
   "source": []
  },
  {
   "cell_type": "code",
   "execution_count": null,
   "id": "cb07a4ec",
   "metadata": {},
   "outputs": [],
   "source": []
  },
  {
   "cell_type": "code",
   "execution_count": null,
   "id": "8aaaed49",
   "metadata": {},
   "outputs": [],
   "source": []
  },
  {
   "cell_type": "code",
   "execution_count": null,
   "id": "800dbd54",
   "metadata": {},
   "outputs": [],
   "source": []
  },
  {
   "cell_type": "code",
   "execution_count": null,
   "id": "bfcb0aae",
   "metadata": {},
   "outputs": [],
   "source": []
  },
  {
   "cell_type": "code",
   "execution_count": null,
   "id": "b3d536d0",
   "metadata": {},
   "outputs": [],
   "source": []
  },
  {
   "cell_type": "code",
   "execution_count": null,
   "id": "f05034b6",
   "metadata": {},
   "outputs": [],
   "source": []
  },
  {
   "cell_type": "code",
   "execution_count": null,
   "id": "6e9c6271",
   "metadata": {},
   "outputs": [],
   "source": []
  },
  {
   "cell_type": "code",
   "execution_count": null,
   "id": "67197a05",
   "metadata": {},
   "outputs": [],
   "source": []
  },
  {
   "cell_type": "code",
   "execution_count": null,
   "id": "42f7e948",
   "metadata": {},
   "outputs": [],
   "source": []
  },
  {
   "cell_type": "code",
   "execution_count": null,
   "id": "2e381ed3",
   "metadata": {},
   "outputs": [],
   "source": []
  },
  {
   "cell_type": "code",
   "execution_count": 220,
   "id": "240ef91e",
   "metadata": {},
   "outputs": [],
   "source": [
    "def deEmojify(string_uncleaned):\n",
    "    regrex_pattern = re.compile(pattern = \"[\"\n",
    "        u\"\\U0001F600-\\U0001F64F\"  # emoticons\n",
    "        u\"\\U0001F300-\\U0001F5FF\"  # symbols & pictographs\n",
    "        u\"\\U0001F680-\\U0001F6FF\"  # transport & map symbols\n",
    "        u\"\\U0001F1E0-\\U0001F1FF\"  # flags (iOS)\n",
    "        u\"\\U00002702-\\U000027B0\"\n",
    "        u\"\\U000024C2-\\U0001F251\"\n",
    "        u\"\\U0001F600-\\U0001F64F\"  # emoticons\n",
    "        u\"\\U0001F300-\\U0001F5FF\"  # symbols & pictographs\n",
    "        u\"\\U0001F680-\\U0001F6FF\"  # transport & map symbols\n",
    "        u\"\\U0001F1E0-\\U0001F1FF\"  # flags (iOS)\n",
    "        u\"\\U00002500-\\U00002BEF\"  # chinese char\n",
    "        u\"\\U00002702-\\U000027B0\"\n",
    "        u\"\\U00002702-\\U000027B0\"\n",
    "        u\"\\U000024C2-\\U0001F251\"\n",
    "        u\"\\U0001f926-\\U0001f937\"\n",
    "        u\"\\U00010000-\\U0010ffff\"\n",
    "        u\"\\u2640-\\u2642\"\n",
    "        u\"\\u2600-\\u2B55\"\n",
    "        u\"\\u200d\"\n",
    "        u\"\\u23cf\"\n",
    "        u\"\\u23e9\"\n",
    "        u\"\\u231a\"\n",
    "        u\"\\ufe0f\"  # dingbats\n",
    "        u\"\\u3030\"                        \n",
    "                    \n",
    "                           \"]+\", flags = re.UNICODE)\n",
    "    return regrex_pattern.sub(r'',string_uncleaned)\n",
    "\n",
    "\n",
    "\n"
   ]
  },
  {
   "cell_type": "code",
   "execution_count": 224,
   "id": "849b06d5",
   "metadata": {},
   "outputs": [
    {
     "data": {
      "text/plain": [
       "'0      0     Giga Texas: 6 months ago vs this week                                                                                                                                                                                                                            \\n1      1     Music video filmed using Tesla Sentry Mode                                                                                                                                                                                                                       \\n2      2     Solar Roof is designed to withstand heavy storms, hail and even medium-size tree branches                                                                                                                                                                        \\n3      3     You can stream\\xa0Netflix &amp; YouTube, play video games or sing Caraoke\\xa0in your Tesla                                                                                                                                                                          \\n4      4     To activate, tap Software → long press model name → type holidays or ModelXMas                                                                                                                                                                                   \\n5      5     All Model X can dance   @thechristina99 @michellehellman                                                                                                                                                                                                        \\n6      6     Production &amp; deliveries in Q2 surpassed 200,000 vehicles                                                                                                                                                                                                     \\n7      7     Experiencing Plaid                                                                                                                                                                                                                                               \\n8      8                                                                                                                                                                                                                                                                      \\n9      9                                                                                                                                                                                                                                                                      \\n10     10    Playing Cyberpunk in Model S Plaid                                                                                                                                                                                                                               \\n11     11    Presentation starts at 8:15pm Pacific                                                                                                                                                                                                                            \\n12     12    Model S Plaid delivery event at our Fremont factory will be streamed live on June 10, 7pm Pacific                                                                                                                                                                \\n13     13    Just surpassed 200k Powerwall installs globally                                                                                                                                                                                                              \\n14     14    If you want to help cover Giga Berlin in awesome graffiti art, send us your work at GigaBerlinArt@Tesla.com                                                                                                                                                      \\n15     15    Configurator now live in Hungary  &amp; Romania                                                                                                                                                                                                              \\n16     16    Cybertruck in NYC                                                                                                                                                                                                                                                \\n17     17    Your Tesla will continue to improve long after you bought it                                                                                                                                                                                                     \\n18     18    Cybertruck at Giga Texas                                                                                                                                                                                                                                         \\n19     19    Tesla seats factory                                                                                                                                                                                                                                              \\n20     20    Model 3 deliveries in Europe                                                                                                                                                                                                                                     \\n21     21    6,000+ Superchargers across Europe — at 600 locations and counting!   by @EPavlic, @MinimalDuck &amp; @_better_e                                                                                                                                                \\n22     22    Backseat views from Model Y   by loghi007 on Instagram                                                                                                                                                                                                          \\n23     23    Semi on the track                                                                                                                                                                                                                                                \\n24     24    Game on    by @FromWhereICHG                                                                                                                                                                                                                                   \\n25     25    Use Tesla phone app to melt snow &amp; ice off your car before even leaving the house   by @cookie_esq                                                                                                                                                          \\n26     26    Model 3 earns Top Safety+ award from IIHS for third year in a row                                                                                                                                                                                                \\n27     27    Solar Roof even clears off the snow                                                                                                                                                                                                                              \\n28     28    Plaid winter testing                                                                                                                                                                                                                                             \\n29     29    Two years ago, we launched Dog Mode. Send us your best pics!                                                                                                                                                                                                     \\n30     30    Winter at Giga Texas                                                                                                                                                                                                                                             \\n31     31    Winter at Giga Berlin                                                                                                                                                                                                                                            \\n32     32    It can cast front &amp; rear vehicle underbodies in a single piece each — down from 70+ parts for same sections previously                                                                                                                                       \\n33     33    World’s biggest die casting machine                                                                                                                                                                                                                              \\n34     34    Proud to have scored 100/100 in LGBTQ equality for the 6th year in a row                                                                                                                                                                                     \\n35     35    Plaid Model X has the quickest acceleration of any SUV by far, at 2.5 seconds 0-60                                                                                                                                                                               \\n36     36    Plaid Model S is the first production car to achieve 0-60 in under 2 seconds                                                                                                                                                                                     \\n37     37    You can play The Witcher 3, Cyberpunk &amp; many more                                                                                                                                                                                                            \\n38     38    New Model S &amp; Model X just launched  Details                                                                                                                                                                                                                 \\n39     39    Also, Model 3 frunks                                                                                                                                                                                                                                             \\n40     40    Stamping Model Y body parts at our Fremont factory                                                                                                                                                                                                               \\n41     41    ! Model Y deliveries in China have officially begun                                                                                                                                                                                                         \\n42     42    Come work on cell / battery production at Giga Texas &amp; Giga Berlin!                                                                                                                                                                                          \\n43     43    The best crash is no crash — with Autopilot enabled, you are 7x less likely to be involved in an accident.  Comes standard with every Tesla, at no additional cost.                                                                                              \\n44     44    Large crumple zones, rigid body structure &amp; low center of gravity really make a difference                                                                                                                                                                   \\n45     45    Model Y awarded 5-star safety rating in every category!                                                                                                                                                                                                          \\n46     46    The 7-seater option is now available for order on Model Y                                                                                                                                                                                                        \\n47     47    Model Y Standard Range is now available to order for $41,990   - 244 mile range (EPA est.) - Rear-wheel drive - 0-60mph in 5.3s - Premium interior - Autopilot - Towing capacity of 3,500 lbs.                                                                   \\n48     48    In 2020, we produced and delivered half a million cars. Huge thanks to all those who made this possible.                                                                                                                                                         \\n49     49    Order solar panels before the solar tax credit drops at the end of this year. Pair with Powerwall to experience no more blackouts!                                                                                                                               \\n50     50    20k Superchargers and counting                                                                                                                                                                                                                                   \\n51     51    There\\'s no place like home..especially if it has a Solar Roof.  This Kansas ranch got theirs installed in 4 days.                                                                                                                                                \\n52     52    In-car footage from Sunday’s Plaid Model S run at Laguna Seca                                                                                                                                                                                                    \\n53     53    The only thing beyond Ludicrous is Plaid                                                                                                                                                                                                                         \\n54     54    Tesla Battery Day starts now!                                                                                                                                                                                                                                    \\n55     55    Aka 162 hours of uninterrupted wifi                                                                                                                                                                                                                              \\n56     56    Big updates in    – Trans-Canada Supercharging   – Model Y deliveries   – Leasing for Model Y &amp; Model 3                                                                                                                                                 \\n57     57    Live roof &gt; Dead roof                                                                                                                                                                                                                                         \\n58     58    Looking up in Model Y                                                                                                                                                                                                                                            \\n59     59    Tesla Q2 Vehicle Safety Report                                                                                                                                                                                                                                   \\n60     60                                                                                                                                                                                                                                                                     \\n61     61    Tesla Q2 2020 Vehicle Production &amp; Deliveries | Tesla, Inc.                                                                                                                                                                                                  \\n62     62                                                                                                                                                                                                                                                                     \\n63     63                                                                                                                                                                                                                                                                     \\n64     64                                                                                                                                                                                                                                                                     \\n65     65    Tesla wins 5/6 Kelley Blue Book awards   Best Overall  Best Value  Most Refined  Best Performance  Best Styling                                                                                                                                             \\n66     66    Engineering update on the Tesla ventilator                                                                                                                                                                                                                       \\n67     67    @UCLAHealth @elonmusk @3M Glad we can help! We’re sending masks and supplies to as many hospitals as we can.                                                                                                                                                     \\n68     68    Model Y deliveries begin!                                                                                                                                                                                                                                        \\n69     69    Giga New York built 4MW of Solar Roof last week, enough for up to 1000 homes!                                                                                                                                                                                    \\n70     70    Track Mode V2 for Model 3 Performance introduces more advanced handling customization and lap data recording.                                                                                                                                                    \\n71     71    Art of the Roof                                                                                                                                                                                                                                                  \\n72     72    Model 3 recently earned the 2020 IIHS Top Safety Pick+ Award. Winning cars are selected on their ability to protect people inside and outside the car                                                                                                         \\n73     73    Solar Roof is taking off across the US. Become a Solar Roof installer today, no experience needed!                                                                                                                                                               \\n74     74    Roofs never looked so good                                                                                                                                                                                                                                       \\n75     75    There is no \"unintended acceleration\" in Tesla vehicles                                                                                                                                                                                                          \\n76     76    We just delivered our first customer cars from Gigafactory Shanghai, marking only one year from when the teams broke ground on the site.                                                                                                                         \\n77     77    What a way to close out 2019, and this is only just the beginning.  Congratulations to the Shanghai team!                                                                                                                                                        \\n78     78    Trans-Canada Supercharger route from Vancouver to Halifax is now open!  Over half the locations are V3 for the fastest charging speeds.                                                                                                                       \\n79     79    Money printers for all                                                                                                                                                                                                                                           \\n80     80    Just in case you make your roofing decisions based on slo mo videos                                                                                                                                                                                              \\n81     81    Model X just earned 5 stars from Euro NCAP in safety testing                                                                                                                                                                                                     \\n82     82    I\\'m gonna tell my kids this is the first pick-up                                                                                                                                                                                                                 \\n83     83    More utility than a pick-up Better performance than a sports car                                                                                                                                                                                                 \\n84     84    Cybertruck Unveil livestream starts at 8pm                                                                                                                                                                                                                       \\n85     85    Cybertruck Unveil starts at 8  Stay tuned for livestream                                                                                                                                                                                                         \\n86     86    @tesletter Weekly screen time report got too high                                                                                                                                                                                                                \\n87     87    We were very honored to accept one of Europe\\'s most prestigious awards yesterday, Das Goldene Lenkrad (the Golden Steering Wheel), with Model 3 scoring the highest of all tested cars                                                                          \\n88     88    Solar Roof uses durable glass solar tiles to generate electricity. \\xa0 Our latest version only takes a few days to set up and is comparable to the cost of a composition shingle roof + electrical bill. \\xa0 Installations begin next month.                         \\n89     89    Submit questions for our Solar Roof Q&amp;A ahead of our 2pm launch:                                                                                                                                                                                             \\n90     90    Join us at 2pm PT today to learn all about our V3 Solar Roof product.   Visit   to listen in.                                                                                                                                                                    \\n91     91    One of us, One of us.  Become a Production Associate:                                                                                                                                                                                                            \\n92     92    @WilliamLaitinen @elonmusk Spookercharger                                                                                                                                                                                                                        \\n93     93    yesterday we almost tweeted that we have a great rash lab instead of crash lab and we all had a good laugh as we all had a good scratch                                                                                                                          \\n94     94    @Tyl3rjam3s don\\'t                                                                                                                                                                                                                                                \\n95     95    @HarryStoltz1 F                                                                                                                                                                                                                                                  \\n96     96    Do you want a sneak peek of our crash lab?  Of course you do.   It’s one of the reasons why Model 3 is among the safest cars on the road.                                                                                                                        \\n97     97    @Super_modi_ we\\'re good                                                                                                                                                                                                                                          \\n98     98    @Super_modi_ CAR                                                                                                                                                                                                                                                 \\n99     99    @Super_modi_ CAR-aoke guys                                                                                                                                                                                                                                       \\n100    Name: tweet, dtype: object                                                                                                                                                                                                                                             '"
      ]
     },
     "execution_count": 224,
     "metadata": {},
     "output_type": "execute_result"
    }
   ],
   "source": [
    "deEmojify(new_result)"
   ]
  },
  {
   "cell_type": "code",
   "execution_count": null,
   "id": "e3bb8730",
   "metadata": {},
   "outputs": [],
   "source": []
  },
  {
   "cell_type": "code",
   "execution_count": 156,
   "id": "19b70555",
   "metadata": {},
   "outputs": [],
   "source": [
    "#function to clear spelling mistakes\n",
    "\n",
    "def prune_multple_consecutive_same_char(transient_tweet_text):\n",
    "\t'''\n",
    "\tyesssssssss  is converted to yess \n",
    "\tssssssssssh is converted to ssh\n",
    "\t'''\n",
    "\ttransient_tweet_text = re.sub(r'(.)\\1+', r'\\1\\1', transient_tweet_text)\n",
    "\treturn transient_tweet_text"
   ]
  },
  {
   "cell_type": "code",
   "execution_count": 87,
   "id": "c1c7afbe",
   "metadata": {},
   "outputs": [
    {
     "data": {
      "text/plain": [
       "\"0     0     Giga Texas: 6 months ago vs this week                                                                                                                             \\n1     1     Music video filmed using Tesla Sentry Mode                                                                                                                        \\n2     2     Solar Roof is designed to withstand heavy storms, hail and even medium-size tree branches                                                                         \\n3     3     You can stream\\xa0Netflix &amp; YouTube, play video games or sing Caraoke\\xa0in your Tesla 📺🎮🎤                                                                          \\n4     4     To activate, tap Software → long press model name → type holidays or ModelXMas                                                                                    \\n5                                                ...                                                                                                                          \\n6     95    @HarryStoltz1 F                                                                                                                                                   \\n7     96    Do you want a sneak peek of our crash lab?  Of course you do.   It’s one of the reasons why Model 3 is among the safest cars on the road.                         \\n8     97    @Super_modi_ we're good                                                                                                                                           \\n9     98    @Super_modi_ CAR                                                                                                                                                  \\n10    99    @Super_modi_ CAR-aoke guys                                                                                                                                        \\n11    Name: tweet, Length: 100, dtype: object                                                                                                                                 \""
      ]
     },
     "execution_count": 87,
     "metadata": {},
     "output_type": "execute_result"
    }
   ],
   "source": [
    "#\n",
    "URLless_string = re.sub(r'\\w+:\\/{2}[\\d\\w-]+(\\.[\\d\\w-]+)*(?:(?:\\/[^\\s/]*))*', '', result)\n",
    "\n",
    "\n",
    "result"
   ]
  },
  {
   "cell_type": "code",
   "execution_count": null,
   "id": "94d55f10",
   "metadata": {},
   "outputs": [],
   "source": []
  },
  {
   "cell_type": "code",
   "execution_count": null,
   "id": "a25d4d03",
   "metadata": {},
   "outputs": [],
   "source": []
  },
  {
   "cell_type": "code",
   "execution_count": null,
   "id": "f27c2670",
   "metadata": {},
   "outputs": [],
   "source": []
  },
  {
   "cell_type": "markdown",
   "id": "8e7274f3",
   "metadata": {},
   "source": [
    "### Lowercasing using lambda function "
   ]
  },
  {
   "cell_type": "code",
   "execution_count": 92,
   "id": "744531a5",
   "metadata": {
    "scrolled": true
   },
   "outputs": [
    {
     "data": {
      "text/plain": [
       "['gigatexas:6monthsagovsthisweekhttps://t.co/cagmij3wkq',\n",
       " 'musicvideofilmedusingteslasentrymodehttps://t.co/g7zyub2nh5',\n",
       " 'solarroofisdesignedtowithstandheavystorms,hailandevenmedium-sizetreebrancheshttps://t.co/ivtrorpc0j',\n",
       " 'youcanstreamnetflix&amp;youtube,playvideogamesorsingcaraokeinyourtesla📺🎮🎤',\n",
       " 'toactivate,tapsoftware→longpressmodelname→typeholidaysormodelxmas',\n",
       " 'allmodelxcandance📸@thechristina99@michellehellmanhttps://t.co/qjh8qljzwk',\n",
       " 'production&amp;deliveriesinq2surpassed200,000vehicleshttps://t.co/xyloa0jhx7',\n",
       " 'experiencingplaidhttps://t.co/nipaxkbkjy',\n",
       " 'https://t.co/v9mfaesy1v',\n",
       " 'https://t.co/k1h6oqse47',\n",
       " 'playingcyberpunkinmodelsplaidhttps://t.co/y9ev4f6eau',\n",
       " 'presentationstartsat8:15pmpacifichttps://t.co/tgzjumralohttps://t.co/xw1s6atqus',\n",
       " 'modelsplaiddeliveryeventatourfremontfactorywillbestreamedliveonjune10,7pmpacifichttps://t.co/v7c77ysfti',\n",
       " 'justsurpassed200kpowerwallinstallsglobally🔋🏡☀️',\n",
       " 'ifyouwanttohelpcovergigaberlininawesomegraffitiart,sendusyourworkatgigaberlinart@tesla.com',\n",
       " 'configuratornowliveinhungary🇭🇺&amp;romania🇷🇴',\n",
       " 'cybertruckinnychttps://t.co/q7jnso1qox',\n",
       " 'yourteslawillcontinuetoimprovelongafteryouboughtit',\n",
       " 'cybertruckatgigatexashttps://t.co/c1ruektpnn',\n",
       " 'teslaseatsfactoryhttps://t.co/x4plpjuuj4',\n",
       " 'model3deliveriesineuropehttps://t.co/fibnp2a6pg',\n",
       " '6,000+superchargersacrosseurope—at600locationsandcounting!📸by@epavlic,@minimalduck&amp;@_better_ehttps://t.co/yf36hro9mc',\n",
       " 'backseatviewsfrommodely📸byloghi007oninstagramhttps://t.co/4ss4hns7fn',\n",
       " 'semionthetrackhttps://t.co/0qctygbljv',\n",
       " 'gameon🎮📸by@fromwhereichghttps://t.co/wa4m9gjdmh',\n",
       " 'useteslaphoneapptomeltsnow&amp;iceoffyourcarbeforeevenleavingthehouse📸by@cookie_esqhttps://t.co/p3r8juovpv',\n",
       " 'model3earnstopsafety+awardfromiihsforthirdyearinarowhttps://t.co/rr0qtv20al',\n",
       " 'solarroofevenclearsoffthesnow',\n",
       " 'plaidwintertestinghttps://t.co/zau1dwzd2u',\n",
       " 'twoyearsago,welauncheddogmode.sendusyourbestpics!https://t.co/ixvazzjp3b',\n",
       " 'winteratgigatexashttps://t.co/eql8lpicke',\n",
       " 'winteratgigaberlinhttps://t.co/zyuwqwwy7s',\n",
       " 'itcancastfront&amp;rearvehicleunderbodiesinasinglepieceeach—downfrom70+partsforsamesectionspreviously',\n",
       " 'world’sbiggestdiecastingmachinehttps://t.co/megnfpkqfh',\n",
       " 'proudtohavescored100/100inlgbtqequalityforthe6thyearinarow🏳️\\u200d🌈https://t.co/zz3pekrrsl',\n",
       " 'plaidmodelxhasthequickestaccelerationofanysuvbyfar,at2.5seconds0-60',\n",
       " 'plaidmodelsisthefirstproductioncartoachieve0-60inunder2seconds',\n",
       " 'youcanplaythewitcher3,cyberpunk&amp;manymore',\n",
       " 'newmodels&amp;modelxjustlauncheddetailshttps://t.co/7ol1bvjoj8',\n",
       " 'also,model3frunkshttps://t.co/up848ep3mk',\n",
       " 'stampingmodelybodypartsatourfremontfactoryhttps://t.co/qblryowjrc',\n",
       " '欢迎!modelydeliveriesinchinahaveofficiallybegun🚘🇨🇳https://t.co/fg5aax1k2b',\n",
       " 'comeworkoncell/batteryproductionatgigatexas&amp;gigaberlin!https://t.co/phsi5bb0udhttps://t.co/jeuatmldme',\n",
       " 'thebestcrashisnocrash—withautopilotenabled,youare7xlesslikelytobeinvolvedinanaccident.comesstandardwitheverytesla,atnoadditionalcost.https://t.co/c7no6bbwgc',\n",
       " 'largecrumplezones,rigidbodystructure&amp;lowcenterofgravityreallymakeadifferencehttps://t.co/gmwoh7a1gz',\n",
       " 'modelyawarded5-starsafetyratingineverycategory!https://t.co/dgbqwofpjf',\n",
       " 'the7-seateroptionisnowavailablefororderonmodelyhttps://t.co/xlu84g3gjc',\n",
       " 'modelystandardrangeisnowavailabletoorderfor$41,990-244milerange(epaest.)-rear-wheeldrive-0-60mphin5.3s-premiuminterior-autopilot-towingcapacityof3,500lbs.https://t.co/du9hofqqic',\n",
       " 'in2020,weproducedanddeliveredhalfamillioncars.hugethankstoallthosewhomadethispossible.https://t.co/q43vz6rmhd',\n",
       " 'ordersolarpanelsbeforethesolartaxcreditdropsattheendofthisyear.pairwithpowerwalltoexperiencenomoreblackouts!https://t.co/gvx4kng2ca',\n",
       " '20ksuperchargersandcountinghttps://t.co/urudyt9eui',\n",
       " \"there'snoplacelikehome..especiallyifithasasolarroof.thiskansasranchgottheirsinstalledin4days.\",\n",
       " 'in-carfootagefromsunday’splaidmodelsrunatlagunasecahttps://t.co/rwqdbfcwoh',\n",
       " 'theonlythingbeyondludicrousisplaid',\n",
       " 'teslabatterydaystartsnow!',\n",
       " 'aka162hoursofuninterruptedwifi',\n",
       " 'bigupdatesin🇨🇦–trans-canadasupercharging✅–modelydeliveries✅–leasingformodely&amp;model3🎯https://t.co/gyfbeisjsp',\n",
       " 'liveroof&gt;deadroofhttps://t.co/sccq1uxujb',\n",
       " 'lookingupinmodelyhttps://t.co/iafpj491zz',\n",
       " 'teslaq2vehiclesafetyreporthttps://t.co/c7no6bbwgc',\n",
       " 'https://t.co/jmkacbrb5d',\n",
       " 'teslaq22020vehicleproduction&amp;deliveries|tesla,inc.https://t.co/hgjdxlwmbg',\n",
       " 'https://t.co/26o1bap14v',\n",
       " 'https://t.co/mroocn4w9f',\n",
       " 'https://t.co/x9dzvxlblx',\n",
       " 'teslawins5/6kelleybluebookawards🏆bestoverall🏆bestvalue🏆mostrefined🏆bestperformance🏆beststyling',\n",
       " 'engineeringupdateontheteslaventilator',\n",
       " '@uclahealth@elonmusk@3mgladwecanhelp!we’resendingmasksandsuppliestoasmanyhospitalsaswecan.',\n",
       " 'modelydeliveriesbegin!https://t.co/zhuim5mtofhttps://t.co/3gx6mbpmhp',\n",
       " 'giganewyorkbuilt4mwofsolarrooflastweek,enoughforupto1000homes!',\n",
       " 'trackmodev2formodel3performanceintroducesmoreadvancedhandlingcustomizationandlapdatarecording.',\n",
       " 'artoftheroof',\n",
       " 'model3recentlyearnedthe2020iihstopsafetypick+award.winningcarsareselectedontheirabilitytoprotectpeopleinsideandoutsidethecar👍🏻🚘',\n",
       " 'solarroofistakingoffacrosstheus.becomeasolarroofinstallertoday,noexperienceneeded!https://t.co/qx1leplknqhttps://t.co/eqkwaosiqh',\n",
       " 'roofsneverlookedsogoodhttps://t.co/kc0nqauklwhttps://t.co/tpw7rjtnhq',\n",
       " 'thereisno\"unintendedacceleration\"inteslavehicleshttps://t.co/bcyrcx03a4',\n",
       " 'wejustdeliveredourfirstcustomercarsfromgigafactoryshanghai,markingonlyoneyearfromwhentheteamsbrokegroundonthesite.https://t.co/ufuxeyrqv0',\n",
       " 'whatawaytocloseout2019,andthisisonlyjustthebeginning.congratulationstotheshanghaiteam!',\n",
       " 'trans-canadasuperchargerroutefromvancouvertohalifaxisnowopen!🇨🇦⚡overhalfthelocationsarev3forthefastestchargingspeeds.',\n",
       " 'moneyprintersforall',\n",
       " 'justincaseyoumakeyourroofingdecisionsbasedonslomovideoshttps://t.co/6bggrc7yxu',\n",
       " 'modelxjustearned5starsfromeuroncapinsafetytesting',\n",
       " \"i'mgonnatellmykidsthisisthefirstpick-uphttps://t.co/ryncyfiz33\",\n",
       " 'moreutilitythanapick-upbetterperformancethanasportscarhttps://t.co/28rwdwlymi',\n",
       " 'cybertruckunveillivestreamstartsat8pmhttps://t.co/bhtbgnqewqhttps://t.co/qzknsikkms',\n",
       " 'cybertruckunveilstartsat8staytunedforlivestreamhttps://t.co/zrbsokkld7',\n",
       " '@tesletterweeklyscreentimereportgottoohigh',\n",
       " \"wewereveryhonoredtoacceptoneofeurope'smostprestigiousawardsyesterday,dasgoldenelenkrad(thegoldensteeringwheel),withmodel3scoringthehighestofalltestedcars🏆\",\n",
       " 'solarroofusesdurableglasssolartilestogenerateelectricity.ourlatestversiononlytakesafewdaystosetupandiscomparabletothecostofacompositionshingleroof+electricalbill.installationsbeginnextmonth.https://t.co/27tb768e9e',\n",
       " 'submitquestionsforoursolarroofq&amp;aaheadofour2pmlaunch:',\n",
       " 'joinusat2pmpttodaytolearnallaboutourv3solarroofproduct.visithttps://t.co/rd0ildpzrltolistenin.',\n",
       " 'oneofus,oneofus.becomeaproductionassociate:https://t.co/eatwqqwhdc',\n",
       " '@williamlaitinen@elonmuskspookercharger',\n",
       " 'yesterdaywealmosttweetedthatwehaveagreatrashlabinsteadofcrashlabandweallhadagoodlaughasweallhadagoodscratch',\n",
       " \"@tyl3rjam3sdon't\",\n",
       " '@harrystoltz1f',\n",
       " 'doyouwantasneakpeekofourcrashlab?ofcourseyoudo.it’soneofthereasonswhymodel3isamongthesafestcarsontheroad.https://t.co/jqxwizz0ea',\n",
       " \"@super_modi_we'regood\",\n",
       " '@super_modi_car',\n",
       " '@super_modi_car-aokeguys']"
      ]
     },
     "execution_count": 92,
     "metadata": {},
     "output_type": "execute_result"
    }
   ],
   "source": [
    "newdf = df['tweet'].to_list()\n",
    "\n",
    "newdf"
   ]
  },
  {
   "cell_type": "code",
   "execution_count": null,
   "id": "a9c6a087",
   "metadata": {},
   "outputs": [],
   "source": []
  },
  {
   "cell_type": "code",
   "execution_count": null,
   "id": "7b987a53",
   "metadata": {},
   "outputs": [],
   "source": []
  },
  {
   "cell_type": "code",
   "execution_count": null,
   "id": "aca4b7d4",
   "metadata": {},
   "outputs": [],
   "source": []
  },
  {
   "cell_type": "code",
   "execution_count": null,
   "id": "e57b2595",
   "metadata": {},
   "outputs": [],
   "source": []
  },
  {
   "cell_type": "code",
   "execution_count": null,
   "id": "c8985d16",
   "metadata": {},
   "outputs": [],
   "source": []
  }
 ],
 "metadata": {
  "kernelspec": {
   "display_name": "Python 3 (ipykernel)",
   "language": "python",
   "name": "python3"
  },
  "language_info": {
   "codemirror_mode": {
    "name": "ipython",
    "version": 3
   },
   "file_extension": ".py",
   "mimetype": "text/x-python",
   "name": "python",
   "nbconvert_exporter": "python",
   "pygments_lexer": "ipython3",
   "version": "3.8.5"
  }
 },
 "nbformat": 4,
 "nbformat_minor": 5
}
