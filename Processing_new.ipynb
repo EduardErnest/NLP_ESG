{
 "cells": [
  {
   "cell_type": "code",
   "execution_count": 1,
   "id": "ac1c66f7",
   "metadata": {},
   "outputs": [
    {
     "name": "stderr",
     "output_type": "stream",
     "text": [
      "/var/folders/xk/xzsh5hpj1tj6xwdckxm3yzfc0000gn/T/ipykernel_39506/4074095023.py:18: FutureWarning: The demoji.download_codes attribute is deprecated and will be removed from demoji in a future version. It is an unused attribute as emoji codes are now distributed directly with the demoji package.\n",
      "  demoji.download_codes()\n"
     ]
    }
   ],
   "source": [
    "# imports we are going to use for preprocessing\n",
    "\n",
    "#imports \n",
    "import pandas as pd\n",
    "import numpy as np\n",
    "import math\n",
    "from praw.models import MoreComments\n",
    "from nltk.corpus import stopwords\n",
    "#from nltk.tokenize import RegexTokenizer\n",
    "#from util.tokenize import SentTokenizer\n",
    "from nltk.stem import WordNetLemmatizer\n",
    "from nltk.stem import PorterStemmer\n",
    "#from nltk import FreqDistq\n",
    "import spacy\n",
    "\n",
    "import string\n",
    "import demoji\n",
    "demoji.download_codes()\n",
    "from nltk.tokenize import TweetTokenizer"
   ]
  },
  {
   "cell_type": "code",
   "execution_count": 15,
   "id": "b60a58bd",
   "metadata": {},
   "outputs": [],
   "source": [
    "# pyforest imports all the usual libraries we use Pandas , sckitlearn, numpy etc\n",
    "#import pyforest\n",
    "import emoji\n",
    "import re\n",
    "import en_core_web_sm\n",
    "from pandas import DataFrame\n",
    "\n",
    "pd.set_option('display.max_colwidth', None)"
   ]
  },
  {
   "cell_type": "code",
   "execution_count": 56,
   "id": "ce0428f5",
   "metadata": {},
   "outputs": [
    {
     "data": {
      "text/html": [
       "<div>\n",
       "<style scoped>\n",
       "    .dataframe tbody tr th:only-of-type {\n",
       "        vertical-align: middle;\n",
       "    }\n",
       "\n",
       "    .dataframe tbody tr th {\n",
       "        vertical-align: top;\n",
       "    }\n",
       "\n",
       "    .dataframe thead th {\n",
       "        text-align: right;\n",
       "    }\n",
       "</style>\n",
       "<table border=\"1\" class=\"dataframe\">\n",
       "  <thead>\n",
       "    <tr style=\"text-align: right;\">\n",
       "      <th></th>\n",
       "      <th>1422515591290793986 2021-08-03 04:12:00 -0700 &lt;Siemens&gt; When it comes to developing &amp;amp; #manufacturing #vaccines, there’s no time to waste! How #DigitalTransformation is helping #pharmaceutical company GSK speed up its processes: 👉  https://t.co/tV6DN82C3t #DigitalTwin</th>\n",
       "    </tr>\n",
       "  </thead>\n",
       "  <tbody>\n",
       "    <tr>\n",
       "      <th>0</th>\n",
       "      <td>1422146251047440387 2021-08-02 03:44:23 -0700 &lt;Siemens&gt; @SickLizardVFX 🙈 Danke fürs Aufpassen und Melden. Viele Grüße vom Siemens ComsTeam</td>\n",
       "    </tr>\n",
       "    <tr>\n",
       "      <th>1</th>\n",
       "      <td>1422131667985211394 2021-08-02 02:46:26 -0700 &lt;Siemens&gt; @YasharAzad all the best :)</td>\n",
       "    </tr>\n",
       "    <tr>\n",
       "      <th>2</th>\n",
       "      <td>1422128369873915904 2021-08-02 02:33:19 -0700 &lt;Siemens&gt; @baidsangeeta Thank you for reaching out! Sounds like you have a request regarding household appliances? That is not us, but a different company with a very similar name: Siemens Home. Please find your local contact at their website:  https://t.co/nOIyzmGXTp</td>\n",
       "    </tr>\n",
       "    <tr>\n",
       "      <th>3</th>\n",
       "      <td>1422127534112661505 2021-08-02 02:30:00 -0700 &lt;Siemens&gt; Is your business preparing for the future? Click to explore trends shaping the coming decade and benchmark your progress against other businesses. Find your path to 2030 with us! ✳️  #TransformTheEveryday</td>\n",
       "    </tr>\n",
       "    <tr>\n",
       "      <th>4</th>\n",
       "      <td>1422104886024544261 2021-08-02 01:00:00 -0700 &lt;Siemens&gt; Driven by strong #sustainability goals, the #datacenter industry is at the forefront of exploring cleaner technologies to turn operations green 🌱 Here’s our approach to decarbonizing the data center industry ✏ #decarbonization</td>\n",
       "    </tr>\n",
       "    <tr>\n",
       "      <th>...</th>\n",
       "      <td>...</td>\n",
       "    </tr>\n",
       "    <tr>\n",
       "      <th>7094</th>\n",
       "      <td>248418125303930880 2012-09-19 06:47:51 -0700 &lt;Siemens&gt; Peter Löscher: \"#TheCrystal is a center for communicating with the public. We have 50.000 fans on its #Facebook page.\" @thecrystalorg</td>\n",
       "    </tr>\n",
       "    <tr>\n",
       "      <th>7095</th>\n",
       "      <td>247981150923022336 2012-09-18 01:51:28 -0700 &lt;Siemens&gt; Tomorrow marks the opening of the Crystal ( http://t.co/E3ioy7UU). Stay tuned for more news! #Siemens @thecrystalorg  http://t.co/yY35oNAK</td>\n",
       "    </tr>\n",
       "    <tr>\n",
       "      <th>7096</th>\n",
       "      <td>247655660869779456 2012-09-17 04:18:05 -0700 &lt;Siemens&gt; Welcome to the official corporate twitter channel of #Siemens - your source for news on the company in the Twittersphere!</td>\n",
       "    </tr>\n",
       "    <tr>\n",
       "      <th>7097</th>\n",
       "      <td>[!] No more data! Scraping will stop now.</td>\n",
       "    </tr>\n",
       "    <tr>\n",
       "      <th>7098</th>\n",
       "      <td>found 0 deleted tweets in this search.</td>\n",
       "    </tr>\n",
       "  </tbody>\n",
       "</table>\n",
       "<p>7099 rows × 1 columns</p>\n",
       "</div>"
      ],
      "text/plain": [
       "                                                 1422515591290793986 2021-08-03 04:12:00 -0700 <Siemens> When it comes to developing &amp; #manufacturing #vaccines, there’s no time to waste! How #DigitalTransformation is helping #pharmaceutical company GSK speed up its processes: 👉  https://t.co/tV6DN82C3t #DigitalTwin\n",
       "0                                                                                                                                                                                     1422146251047440387 2021-08-02 03:44:23 -0700 <Siemens> @SickLizardVFX 🙈 Danke fürs Aufpassen und Melden. Viele Grüße vom Siemens ComsTeam\n",
       "1                                                                                                                                                                                                                                            1422131667985211394 2021-08-02 02:46:26 -0700 <Siemens> @YasharAzad all the best :)\n",
       "2     1422128369873915904 2021-08-02 02:33:19 -0700 <Siemens> @baidsangeeta Thank you for reaching out! Sounds like you have a request regarding household appliances? That is not us, but a different company with a very similar name: Siemens Home. Please find your local contact at their website:  https://t.co/nOIyzmGXTp\n",
       "3                                                           1422127534112661505 2021-08-02 02:30:00 -0700 <Siemens> Is your business preparing for the future? Click to explore trends shaping the coming decade and benchmark your progress against other businesses. Find your path to 2030 with us! ✳️  #TransformTheEveryday\n",
       "4                                     1422104886024544261 2021-08-02 01:00:00 -0700 <Siemens> Driven by strong #sustainability goals, the #datacenter industry is at the forefront of exploring cleaner technologies to turn operations green 🌱 Here’s our approach to decarbonizing the data center industry ✏ #decarbonization\n",
       "...                                                                                                                                                                                                                                                                                                                          ...\n",
       "7094                                                                                                                                248418125303930880 2012-09-19 06:47:51 -0700 <Siemens> Peter Löscher: \"#TheCrystal is a center for communicating with the public. We have 50.000 fans on its #Facebook page.\" @thecrystalorg\n",
       "7095                                                                                                                           247981150923022336 2012-09-18 01:51:28 -0700 <Siemens> Tomorrow marks the opening of the Crystal ( http://t.co/E3ioy7UU). Stay tuned for more news! #Siemens @thecrystalorg  http://t.co/yY35oNAK\n",
       "7096                                                                                                                                            247655660869779456 2012-09-17 04:18:05 -0700 <Siemens> Welcome to the official corporate twitter channel of #Siemens - your source for news on the company in the Twittersphere!\n",
       "7097                                                                                                                                                                                                                                                                                   [!] No more data! Scraping will stop now.\n",
       "7098                                                                                                                                                                                                                                                                                      found 0 deleted tweets in this search.\n",
       "\n",
       "[7099 rows x 1 columns]"
      ]
     },
     "execution_count": 56,
     "metadata": {},
     "output_type": "execute_result"
    }
   ],
   "source": [
    "df_siemens = pd.read_csv('siemens_twint.txt', delimiter = \"\\t\",  index_col=False)\n",
    "\n",
    "df_siemens\n"
   ]
  },
  {
   "cell_type": "code",
   "execution_count": null,
   "id": "c571c303",
   "metadata": {},
   "outputs": [],
   "source": []
  },
  {
   "cell_type": "code",
   "execution_count": 12,
   "id": "a2fa9885",
   "metadata": {},
   "outputs": [],
   "source": [
    "#function to clear spelling mistakes\n",
    "\n",
    "\n",
    "def prune_multple_consecutive_same_char(transient_tweet_text):\n",
    "\t'''\n",
    "\tyesssssssss  is converted to yess \n",
    "\tssssssssssh is converted to ssh\n",
    "\t'''\n",
    "\ttransient_tweet_text = re.sub(r'(.)\\1+', r'\\1\\1', transient_tweet_text)\n",
    "\treturn transient_tweet_text"
   ]
  },
  {
   "cell_type": "code",
   "execution_count": 65,
   "id": "712b3750",
   "metadata": {},
   "outputs": [
    {
     "data": {
      "text/plain": [
       "'  1422515591290793986 2021-08-03 04:12:00 -0700 <Siemens> When it comes to developing &amp; #manufacturing #vaccines, there’s no time to waste! How #DigitalTransformation is helping #pharmaceutical company GSK speed up its processes: 👉  https://t.co/tV6DN82C3t #DigitalTwin\\n0  1422146251047440387 2021-08-02 03:44:23 -0700 <Siemens> @SickLizardVFX 🙈 Danke fürs Aufpassen und Melden. Viele Grüße vom Siemens ComsTeam\\n1  1422131667985211394 2021-08-02 02:46:26 -0700 <Siemens> @YasharAzad all the best :)\\n2  1422128369873915904 2021-08-02 02:33:19 -0700 <Siemens> @baidsangeeta Thank you for reaching out! Sounds like you have a request regarding household appliances? That is not us, but a different company with a very similar name: Siemens Home. Please find your local contact at their website:  https://t.co/nOIyzmGXTp\\n3  1422127534112661505 2021-08-02 02:30:00 -0700 <Siemens> Is your business preparing for the future? Click to explore trends shaping the coming decade and benchmark your progress against other businesses. Find your path to 2030 with us! ✳️  #TransformTheEveryday\\n4  1422104886024544261 2021-08-02 01:00:00 -0700 <Siemens> Driven by strong #sustainability goals, the #datacenter industry is at the forefront of exploring cleaner technologies to turn operations green 🌱 Here’s our approach to decarbonizing the data center industry ✏ #decarbonization\\n..  ..\\n7094  248418125303930880 2012-09-19 06:47:51 -0700 <Siemens> Peter Löscher: \"#TheCrystal is a center for communicating with the public. We have 50.00 fans on its #Facebook page.\" @thecrystalorg\\n7095  247981150923022336 2012-09-18 01:51:28 -0700 <Siemens> Tomorrow marks the opening of the Crystal ( http://t.co/E3ioy7UU). Stay tuned for more news! #Siemens @thecrystalorg  http://t.co/yY35oNAK\\n7096  247655660869779456 2012-09-17 04:18:05 -0700 <Siemens> Welcome to the official corporate twitter channel of #Siemens - your source for news on the company in the Twittersphere!\\n7097  [!] No more data! Scraping will stop now.\\n7098  found 0 deleted tweets in this search.\\n\\n[7099 rows x 1 columns]'"
      ]
     },
     "execution_count": 65,
     "metadata": {},
     "output_type": "execute_result"
    }
   ],
   "source": [
    "result = prune_multple_consecutive_same_char(str(df_siemens))\n",
    "\n",
    "result"
   ]
  },
  {
   "cell_type": "code",
   "execution_count": 66,
   "id": "3f8f1adf",
   "metadata": {
    "scrolled": true
   },
   "outputs": [
    {
     "name": "stdout",
     "output_type": "stream",
     "text": [
      "  1422515591290793986 2021-08-03 04:12:00 -0700 <Siemens> When it comes to developing &amp; #manufacturing #vaccines, there’s no time to waste! How #DigitalTransformation is helping #pharmaceutical company GSK speed up its processes: 👉  https://t.co/tV6DN82C3t #DigitalTwin\n",
      "0  1422146251047440387 2021-08-02 03:44:23 -0700 <Siemens> @SickLizardVFX 🙈 Danke fürs Aufpassen und Melden. Viele Grüße vom Siemens ComsTeam\n",
      "1  1422131667985211394 2021-08-02 02:46:26 -0700 <Siemens> @YasharAzad all the best :)\n",
      "2  1422128369873915904 2021-08-02 02:33:19 -0700 <Siemens> @baidsangeeta Thank you for reaching out! Sounds like you have a request regarding household appliances? That is not us, but a different company with a very similar name: Siemens Home. Please find your local contact at their website:  https://t.co/nOIyzmGXTp\n",
      "3  1422127534112661505 2021-08-02 02:30:00 -0700 <Siemens> Is your business preparing for the future? Click to explore trends shaping the coming decade and benchmark your progress against other businesses. Find your path to 2030 with us! ✳️  #TransformTheEveryday\n",
      "4  1422104886024544261 2021-08-02 01:00:00 -0700 <Siemens> Driven by strong #sustainability goals, the #datacenter industry is at the forefront of exploring cleaner technologies to turn operations green 🌱 Here’s our approach to decarbonizing the data center industry ✏ #decarbonization\n",
      "..  ..\n",
      "7094  248418125303930880 2012-09-19 06:47:51 -0700 <Siemens> Peter Löscher: \"#TheCrystal is a center for communicating with the public. We have 50.00 fans on its #Facebook page.\" @thecrystalorg\n",
      "7095  247981150923022336 2012-09-18 01:51:28 -0700 <Siemens> Tomorrow marks the opening of the Crystal ( http://t.co/E3ioy7UU). Stay tuned for more news! #Siemens @thecrystalorg  http://t.co/yY35oNAK\n",
      "7096  247655660869779456 2012-09-17 04:18:05 -0700 <Siemens> Welcome to the official corporate twitter channel of #Siemens - your source for news on the company in the Twittersphere!\n",
      "7097  [!] No more data! Scraping will stop now.\n",
      "7098  found 0 deleted tweets in this search.\n",
      "\n",
      "[7099 rows x 1 columns]\n"
     ]
    }
   ],
   "source": [
    "pd.set_option('display.max_rows', 500)\n",
    "pd.set_option('display.max_columns', 500)\n",
    "print(result)"
   ]
  },
  {
   "cell_type": "code",
   "execution_count": null,
   "id": "90aac0d1",
   "metadata": {},
   "outputs": [],
   "source": []
  },
  {
   "cell_type": "code",
   "execution_count": null,
   "id": "64f5dbbd",
   "metadata": {},
   "outputs": [],
   "source": []
  },
  {
   "cell_type": "code",
   "execution_count": null,
   "id": "5334296c",
   "metadata": {},
   "outputs": [],
   "source": []
  },
  {
   "cell_type": "code",
   "execution_count": 14,
   "id": "b09bf20d",
   "metadata": {},
   "outputs": [
    {
     "data": {
      "text/plain": [
       "['                                                 1422515591290793986 2021-08-03 04:12:00 -0700 <Siemens> When it comes to developing &amp; #manufacturing #vaccines, there’s no time to waste! How #DigitalTransformation is helping #pharmaceutical company GSK speed up its processes: 👉   #DigitalTwin',\n",
       " '0                                                                                                                                                                                     1422146251047440387 2021-08-02 03:44:23 -0700 <Siemens> @SickLizardVFX 🙈 Danke fürs Aufpassen und Melden. Viele Grüße vom Siemens ComsTeam',\n",
       " '1                                                                                                                                                                                                                                            1422131667985211394 2021-08-02 02:46:26 -0700 <Siemens> @YasharAzad all the best :)',\n",
       " '2     1422128369873915904 2021-08-02 02:33:19 -0700 <Siemens> @baidsangeeta Thank you for reaching out! Sounds like you have a request regarding household appliances? That is not us, but a different company with a very similar name: Siemens Home. Please find your local contact at their website:  ',\n",
       " '3                                                           1422127534112661505 2021-08-02 02:30:00 -0700 <Siemens> Is your business preparing for the future? Click to explore trends shaping the coming decade and benchmark your progress against other businesses. Find your path to 2030 with us! ✳️  #TransformTheEveryday',\n",
       " '4                                     1422104886024544261 2021-08-02 01:00:00 -0700 <Siemens> Driven by strong #sustainability goals, the #datacenter industry is at the forefront of exploring cleaner technologies to turn operations green 🌱 Here’s our approach to decarbonizing the data center industry ✏ #decarbonization',\n",
       " '...                                                                                                                                                                                                                                                                                                                          ...',\n",
       " '7094                                                                                                                                248418125303930880 2012-09-19 06:47:51 -0700 <Siemens> Peter Löscher: \"#TheCrystal is a center for communicating with the public. We have 50.000 fans on its #Facebook page.\" @thecrystalorg',\n",
       " '7095                                                                                                                           247981150923022336 2012-09-18 01:51:28 -0700 <Siemens> Tomorrow marks the opening of the Crystal (  Stay tuned for more news! #Siemens @thecrystalorg  ',\n",
       " '7096                                                                                                                                            247655660869779456 2012-09-17 04:18:05 -0700 <Siemens> Welcome to the official corporate twitter channel of #Siemens - your source for news on the company in the Twittersphere!',\n",
       " '7097                                                                                                                                                                                                                                                                                   [!] No more data! Scraping will stop now.',\n",
       " '7098                                                                                                                                                                                                                                                                                      found 0 deleted tweets in this search.',\n",
       " '',\n",
       " '[7099 rows x 1 columns]']"
      ]
     },
     "execution_count": 14,
     "metadata": {},
     "output_type": "execute_result"
    }
   ],
   "source": [
    "result = result.split(\"\\n\")\n",
    "result"
   ]
  },
  {
   "cell_type": "code",
   "execution_count": 21,
   "id": "df9f9745",
   "metadata": {},
   "outputs": [],
   "source": [
    "def to_LowerCase(transient_tweet_text):\n",
    "    '''\n",
    "\tConvert tweet text to lower to lower case alphabets\n",
    "\t'''\n",
    "    transient_tweet_text = transient_tweet_text.lower()\n",
    "    return transient_tweet_text"
   ]
  },
  {
   "cell_type": "code",
   "execution_count": 55,
   "id": "0ccbe24b",
   "metadata": {},
   "outputs": [
    {
     "ename": "AttributeError",
     "evalue": "'DataFrame' object has no attribute 'lower'",
     "output_type": "error",
     "traceback": [
      "\u001b[0;31m---------------------------------------------------------------------------\u001b[0m",
      "\u001b[0;31mAttributeError\u001b[0m                            Traceback (most recent call last)",
      "\u001b[0;32m/var/folders/xk/xzsh5hpj1tj6xwdckxm3yzfc0000gn/T/ipykernel_39506/724360596.py\u001b[0m in \u001b[0;36m<module>\u001b[0;34m\u001b[0m\n\u001b[0;32m----> 1\u001b[0;31m \u001b[0mnew_result\u001b[0m \u001b[0;34m=\u001b[0m \u001b[0mto_LowerCase\u001b[0m\u001b[0;34m(\u001b[0m\u001b[0mresult\u001b[0m\u001b[0;34m)\u001b[0m\u001b[0;34m\u001b[0m\u001b[0;34m\u001b[0m\u001b[0m\n\u001b[0m\u001b[1;32m      2\u001b[0m \u001b[0;34m\u001b[0m\u001b[0m\n\u001b[1;32m      3\u001b[0m \u001b[0mnew_result\u001b[0m\u001b[0;34m\u001b[0m\u001b[0;34m\u001b[0m\u001b[0m\n",
      "\u001b[0;32m/var/folders/xk/xzsh5hpj1tj6xwdckxm3yzfc0000gn/T/ipykernel_39506/3659036031.py\u001b[0m in \u001b[0;36mto_LowerCase\u001b[0;34m(transient_tweet_text)\u001b[0m\n\u001b[1;32m      3\u001b[0m         \u001b[0mConvert\u001b[0m \u001b[0mtweet\u001b[0m \u001b[0mtext\u001b[0m \u001b[0mto\u001b[0m \u001b[0mlower\u001b[0m \u001b[0mto\u001b[0m \u001b[0mlower\u001b[0m \u001b[0mcase\u001b[0m \u001b[0malphabets\u001b[0m\u001b[0;34m\u001b[0m\u001b[0;34m\u001b[0m\u001b[0m\n\u001b[1;32m      4\u001b[0m \t'''\n\u001b[0;32m----> 5\u001b[0;31m     \u001b[0mtransient_tweet_text\u001b[0m \u001b[0;34m=\u001b[0m \u001b[0mtransient_tweet_text\u001b[0m\u001b[0;34m.\u001b[0m\u001b[0mlower\u001b[0m\u001b[0;34m(\u001b[0m\u001b[0;34m)\u001b[0m\u001b[0;34m\u001b[0m\u001b[0;34m\u001b[0m\u001b[0m\n\u001b[0m\u001b[1;32m      6\u001b[0m     \u001b[0;32mreturn\u001b[0m \u001b[0mtransient_tweet_text\u001b[0m\u001b[0;34m\u001b[0m\u001b[0;34m\u001b[0m\u001b[0m\n",
      "\u001b[0;32m~/Desktop/DissoCodes/venv/lib/python3.8/site-packages/pandas/core/generic.py\u001b[0m in \u001b[0;36m__getattr__\u001b[0;34m(self, name)\u001b[0m\n\u001b[1;32m   5476\u001b[0m         ):\n\u001b[1;32m   5477\u001b[0m             \u001b[0;32mreturn\u001b[0m \u001b[0mself\u001b[0m\u001b[0;34m[\u001b[0m\u001b[0mname\u001b[0m\u001b[0;34m]\u001b[0m\u001b[0;34m\u001b[0m\u001b[0;34m\u001b[0m\u001b[0m\n\u001b[0;32m-> 5478\u001b[0;31m         \u001b[0;32mreturn\u001b[0m \u001b[0mobject\u001b[0m\u001b[0;34m.\u001b[0m\u001b[0m__getattribute__\u001b[0m\u001b[0;34m(\u001b[0m\u001b[0mself\u001b[0m\u001b[0;34m,\u001b[0m \u001b[0mname\u001b[0m\u001b[0;34m)\u001b[0m\u001b[0;34m\u001b[0m\u001b[0;34m\u001b[0m\u001b[0m\n\u001b[0m\u001b[1;32m   5479\u001b[0m \u001b[0;34m\u001b[0m\u001b[0m\n\u001b[1;32m   5480\u001b[0m     \u001b[0;32mdef\u001b[0m \u001b[0m__setattr__\u001b[0m\u001b[0;34m(\u001b[0m\u001b[0mself\u001b[0m\u001b[0;34m,\u001b[0m \u001b[0mname\u001b[0m\u001b[0;34m:\u001b[0m \u001b[0mstr\u001b[0m\u001b[0;34m,\u001b[0m \u001b[0mvalue\u001b[0m\u001b[0;34m)\u001b[0m \u001b[0;34m->\u001b[0m \u001b[0;32mNone\u001b[0m\u001b[0;34m:\u001b[0m\u001b[0;34m\u001b[0m\u001b[0;34m\u001b[0m\u001b[0m\n",
      "\u001b[0;31mAttributeError\u001b[0m: 'DataFrame' object has no attribute 'lower'"
     ]
    }
   ],
   "source": [
    "new_result = to_LowerCase(result)\n",
    "\n",
    "new_result"
   ]
  },
  {
   "cell_type": "code",
   "execution_count": 25,
   "id": "112ea42e",
   "metadata": {},
   "outputs": [],
   "source": [
    "#removing all emojis\n",
    "\n",
    "def remove_emoji(transient_tweet_text):\n",
    "    '''\n",
    "    replace emoji with the respective emotion\n",
    "    '''\n",
    "    tweet_tokenizer = TweetTokenizer()\n",
    "    tokenized_tweet = tweet_tokenizer.tokenize(transient_tweet_text)\n",
    "    emojis_present = demoji.findall(transient_tweet_text)\n",
    "    tweet_no_emoji=''\n",
    "    for i,s in enumerate(tokenized_tweet):\n",
    "        if s in emojis_present.keys():\n",
    "            tweet_no_emoji = tweet_no_emoji + ' ' + emojis_present[s]\n",
    "        else:\n",
    "            tweet_no_emoji = tweet_no_emoji + ' ' + s\n",
    "    return tweet_no_emoji"
   ]
  },
  {
   "cell_type": "code",
   "execution_count": 26,
   "id": "99eca75e",
   "metadata": {},
   "outputs": [
    {
     "data": {
      "text/plain": [
       "' 0   1422515591 2907939 86 2021-08- 03 04:12 : 00 - 0700 <siemens> when it comes to developing & #manufacturing #vaccines , there ’ s no time to waste ! how #digitaltransformation is helping #pharmaceutical company gsk speed up its processes : backhand index pointing right #digitaltwin 1 0   1422146251 04744038 7 2021-08- 02 03:44 : 23 - 0700 <siemens> @sicklizardvfx see-no-evil monkey danke fürs aufpassen und melden . viele grüße vom siemens comsteam 2 1   1422131667 9852113 94 2021-08- 02 02:46 : 26 - 0700 <siemens> @yasharazad all the best :) 3 2 14221283698 7391590 4 2021-08- 02 02:33 : 19 - 0700 <siemens> @baidsangeeta thank you for reaching out ! sounds like you have a request regarding household appliances ? that is not us , but a different company with a very similar name : siemens home . please find your local contact at their website : 4 3 14221275341 12661505 2021-08- 02 02:30 : 00 - 0700 <siemens> is your business preparing for the future ? click to explore trends shaping the coming decade and benchmark your progress against other businesses . find your path to 2030 with us ! ✳ ️ #transformtheeveryday 5 4 14221048860 2454426 1 2021-08- 02 01:00 : 00 - 0700 <siemens> driven by strong #sustainability goals , the #datacenter industry is at the forefront of exploring cleaner technologies to turn operations green seedling here ’ s our approach to decarbonizing the data center industry pencil #decarbonization 6 ...   ... 7 7094 2484181253 03930880 2012-09- 19 06:47 : 51 - 0700 <siemens> peter löscher : \" #thecrystal is a center for communicating with the public . we have 50.000 fans on its #facebook page . \" @thecrystalorg 8 7095 2479811509 2302233 6 2012-09- 18 01:51 : 28 - 0700 <siemens> tomorrow marks the opening of the crystal ( stay tuned for more news ! #siemens @thecrystalorg 9 7096 2476556608 6977945 6 2012-09- 17 04:18 : 05 - 0700 <siemens> welcome to the official corporate twitter channel of #siemens - your source for news on the company in the twittersphere ! 10 7097 [ ! ] no more data ! scraping will stop now . 11 7098 found 0 deleted tweets in this search . 12 13 [ 7099 rows x 1 columns ]'"
      ]
     },
     "execution_count": 26,
     "metadata": {},
     "output_type": "execute_result"
    }
   ],
   "source": [
    "new_result = remove_emoji(new_result)\n",
    "\n",
    "new_result"
   ]
  },
  {
   "cell_type": "code",
   "execution_count": 29,
   "id": "0c39de1f",
   "metadata": {},
   "outputs": [],
   "source": [
    "#stripping unicode text\n",
    "def strip_unicode(transient_tweet_text):\n",
    "    '''\n",
    "    Strip all unicode characters from a tweet\n",
    "    '''\n",
    "    tweet = ''.join(i for i in transient_tweet_text if ord(i)<128)\n",
    "    return tweet "
   ]
  },
  {
   "cell_type": "code",
   "execution_count": 30,
   "id": "d258482a",
   "metadata": {},
   "outputs": [
    {
     "data": {
      "text/plain": [
       "' 0   1422515591 2907939 86 2021-08- 03 04:12 : 00 - 0700 <siemens> when it comes to developing & #manufacturing #vaccines , there  s no time to waste ! how #digitaltransformation is helping #pharmaceutical company gsk speed up its processes : backhand index pointing right #digitaltwin 1 0   1422146251 04744038 7 2021-08- 02 03:44 : 23 - 0700 <siemens> @sicklizardvfx see-no-evil monkey danke frs aufpassen und melden . viele gre vom siemens comsteam 2 1   1422131667 9852113 94 2021-08- 02 02:46 : 26 - 0700 <siemens> @yasharazad all the best :) 3 2 14221283698 7391590 4 2021-08- 02 02:33 : 19 - 0700 <siemens> @baidsangeeta thank you for reaching out ! sounds like you have a request regarding household appliances ? that is not us , but a different company with a very similar name : siemens home . please find your local contact at their website : 4 3 14221275341 12661505 2021-08- 02 02:30 : 00 - 0700 <siemens> is your business preparing for the future ? click to explore trends shaping the coming decade and benchmark your progress against other businesses . find your path to 2030 with us !   #transformtheeveryday 5 4 14221048860 2454426 1 2021-08- 02 01:00 : 00 - 0700 <siemens> driven by strong #sustainability goals , the #datacenter industry is at the forefront of exploring cleaner technologies to turn operations green seedling here  s our approach to decarbonizing the data center industry pencil #decarbonization 6 ...   ... 7 7094 2484181253 03930880 2012-09- 19 06:47 : 51 - 0700 <siemens> peter lscher : \" #thecrystal is a center for communicating with the public . we have 50.000 fans on its #facebook page . \" @thecrystalorg 8 7095 2479811509 2302233 6 2012-09- 18 01:51 : 28 - 0700 <siemens> tomorrow marks the opening of the crystal ( stay tuned for more news ! #siemens @thecrystalorg 9 7096 2476556608 6977945 6 2012-09- 17 04:18 : 05 - 0700 <siemens> welcome to the official corporate twitter channel of #siemens - your source for news on the company in the twittersphere ! 10 7097 [ ! ] no more data ! scraping will stop now . 11 7098 found 0 deleted tweets in this search . 12 13 [ 7099 rows x 1 columns ]'"
      ]
     },
     "execution_count": 30,
     "metadata": {},
     "output_type": "execute_result"
    }
   ],
   "source": [
    "clean_tweets = strip_unicode(new_result)\n",
    "\n",
    "clean_tweets"
   ]
  },
  {
   "cell_type": "code",
   "execution_count": 31,
   "id": "361f0faa",
   "metadata": {},
   "outputs": [],
   "source": [
    "#Mentions\n",
    "def process_Mentions(transient_tweet_text):\n",
    "    '''\n",
    "\tIdentify mentions if any\n",
    "\t'''\n",
    "    transient_tweet_text = re.sub(r\"@(\\w+)\",\" \", transient_tweet_text)\n",
    "    return transient_tweet_text"
   ]
  },
  {
   "cell_type": "code",
   "execution_count": 32,
   "id": "d3448f47",
   "metadata": {},
   "outputs": [
    {
     "data": {
      "text/plain": [
       "' 0   1422515591 2907939 86 2021-08- 03 04:12 : 00 - 0700 <siemens> when it comes to developing & #manufacturing #vaccines , there  s no time to waste ! how #digitaltransformation is helping #pharmaceutical company gsk speed up its processes : backhand index pointing right #digitaltwin 1 0   1422146251 04744038 7 2021-08- 02 03:44 : 23 - 0700 <siemens>   see-no-evil monkey danke frs aufpassen und melden . viele gre vom siemens comsteam 2 1   1422131667 9852113 94 2021-08- 02 02:46 : 26 - 0700 <siemens>   all the best :) 3 2 14221283698 7391590 4 2021-08- 02 02:33 : 19 - 0700 <siemens>   thank you for reaching out ! sounds like you have a request regarding household appliances ? that is not us , but a different company with a very similar name : siemens home . please find your local contact at their website : 4 3 14221275341 12661505 2021-08- 02 02:30 : 00 - 0700 <siemens> is your business preparing for the future ? click to explore trends shaping the coming decade and benchmark your progress against other businesses . find your path to 2030 with us !   #transformtheeveryday 5 4 14221048860 2454426 1 2021-08- 02 01:00 : 00 - 0700 <siemens> driven by strong #sustainability goals , the #datacenter industry is at the forefront of exploring cleaner technologies to turn operations green seedling here  s our approach to decarbonizing the data center industry pencil #decarbonization 6 ...   ... 7 7094 2484181253 03930880 2012-09- 19 06:47 : 51 - 0700 <siemens> peter lscher : \" #thecrystal is a center for communicating with the public . we have 50.000 fans on its #facebook page . \"   8 7095 2479811509 2302233 6 2012-09- 18 01:51 : 28 - 0700 <siemens> tomorrow marks the opening of the crystal ( stay tuned for more news ! #siemens   9 7096 2476556608 6977945 6 2012-09- 17 04:18 : 05 - 0700 <siemens> welcome to the official corporate twitter channel of #siemens - your source for news on the company in the twittersphere ! 10 7097 [ ! ] no more data ! scraping will stop now . 11 7098 found 0 deleted tweets in this search . 12 13 [ 7099 rows x 1 columns ]'"
      ]
     },
     "execution_count": 32,
     "metadata": {},
     "output_type": "execute_result"
    }
   ],
   "source": [
    "process_Mentions(clean_tweets)"
   ]
  },
  {
   "cell_type": "code",
   "execution_count": 33,
   "id": "e0f85689",
   "metadata": {},
   "outputs": [],
   "source": [
    "def process_HashTags(transient_tweet_text):\n",
    "    '''\n",
    "\tStrip all Hashtags from a tweet\n",
    "\t'''\n",
    "    transient_tweet_text = re.sub(r\"#(\\w+)\\b\", '', transient_tweet_text)\n",
    "    return transient_tweet_text"
   ]
  },
  {
   "cell_type": "code",
   "execution_count": 34,
   "id": "a7c260f9",
   "metadata": {},
   "outputs": [
    {
     "data": {
      "text/plain": [
       "' 0   1422515591 2907939 86 2021-08- 03 04:12 : 00 - 0700 <siemens> when it comes to developing &   , there  s no time to waste ! how  is helping  company gsk speed up its processes : backhand index pointing right  1 0   1422146251 04744038 7 2021-08- 02 03:44 : 23 - 0700 <siemens> @sicklizardvfx see-no-evil monkey danke frs aufpassen und melden . viele gre vom siemens comsteam 2 1   1422131667 9852113 94 2021-08- 02 02:46 : 26 - 0700 <siemens> @yasharazad all the best :) 3 2 14221283698 7391590 4 2021-08- 02 02:33 : 19 - 0700 <siemens> @baidsangeeta thank you for reaching out ! sounds like you have a request regarding household appliances ? that is not us , but a different company with a very similar name : siemens home . please find your local contact at their website : 4 3 14221275341 12661505 2021-08- 02 02:30 : 00 - 0700 <siemens> is your business preparing for the future ? click to explore trends shaping the coming decade and benchmark your progress against other businesses . find your path to 2030 with us !    5 4 14221048860 2454426 1 2021-08- 02 01:00 : 00 - 0700 <siemens> driven by strong  goals , the  industry is at the forefront of exploring cleaner technologies to turn operations green seedling here  s our approach to decarbonizing the data center industry pencil  6 ...   ... 7 7094 2484181253 03930880 2012-09- 19 06:47 : 51 - 0700 <siemens> peter lscher : \"  is a center for communicating with the public . we have 50.000 fans on its  page . \" @thecrystalorg 8 7095 2479811509 2302233 6 2012-09- 18 01:51 : 28 - 0700 <siemens> tomorrow marks the opening of the crystal ( stay tuned for more news !  @thecrystalorg 9 7096 2476556608 6977945 6 2012-09- 17 04:18 : 05 - 0700 <siemens> welcome to the official corporate twitter channel of  - your source for news on the company in the twittersphere ! 10 7097 [ ! ] no more data ! scraping will stop now . 11 7098 found 0 deleted tweets in this search . 12 13 [ 7099 rows x 1 columns ]'"
      ]
     },
     "execution_count": 34,
     "metadata": {},
     "output_type": "execute_result"
    }
   ],
   "source": [
    "clean_tweet = process_HashTags(clean_tweets)\n",
    "\n",
    "clean_tweet"
   ]
  },
  {
   "cell_type": "code",
   "execution_count": 44,
   "id": "e05d44ec",
   "metadata": {},
   "outputs": [
    {
     "data": {
      "text/plain": [
       "' 0   1422515591 2907939 86 2021-08- 03 04:12 : 00 - 0700 <siemens> when it comes to developing &   , there  s no time to waste ! how  is helping  company gsk speed up its processes : backhand index pointing right  1 0   1422146251 04744038 7 2021-08- 02 03:44 : 23 - 0700 <siemens> @sicklizardvfx see-no-evil monkey danke frs aufpassen und melden . viele gre vom siemens comsteam 2 1   1422131667 9852113 94 2021-08- 02 02:46 : 26 - 0700 <siemens> @yasharazad all the best :) 3 2 14221283698 7391590 4 2021-08- 02 02:33 : 19 - 0700 <siemens> @baidsangeeta thank you for reaching out ! sounds like you have a request regarding household appliances ? that is not us , but a different company with a very similar name : siemens home . please find your local contact at their website : 4 3 14221275341 12661505 2021-08- 02 02:30 : 00 - 0700 <siemens> is your business preparing for the future ? click to explore trends shaping the coming decade and benchmark your progress against other businesses . find your path to 2030 with us !    5 4 14221048860 2454426 1 2021-08- 02 01:00 : 00 - 0700 <siemens> driven by strong  goals , the  industry is at the forefront of exploring cleaner technologies to turn operations green seedling here  s our approach to decarbonizing the data center industry pencil  6 ...   ... 7 7094 2484181253 03930880 2012-09- 19 06:47 : 51 - 0700 <siemens> peter lscher : \"  is a center for communicating with the public . we have 50.000 fans on its  page . \" @thecrystalorg 8 7095 2479811509 2302233 6 2012-09- 18 01:51 : 28 - 0700 <siemens> tomorrow marks the opening of the crystal ( stay tuned for more news !  @thecrystalorg 9 7096 2476556608 6977945 6 2012-09- 17 04:18 : 05 - 0700 <siemens> welcome to the official corporate twitter channel of  - your source for news on the company in the twittersphere ! 10 7097 [ ! ] no more data ! scraping will stop now . 11 7098 found 0 deleted tweets in this search . 12 13 [ 7099 rows x 1 columns ]'"
      ]
     },
     "execution_count": 44,
     "metadata": {},
     "output_type": "execute_result"
    }
   ],
   "source": [
    "clean_tweet = re.sub(\"#\\S+\", \" \", clean_tweet)\n",
    "\n",
    "\n",
    "clean_tweet\n"
   ]
  },
  {
   "cell_type": "code",
   "execution_count": null,
   "id": "7db0e242",
   "metadata": {},
   "outputs": [],
   "source": []
  },
  {
   "cell_type": "code",
   "execution_count": null,
   "id": "e34b4496",
   "metadata": {},
   "outputs": [],
   "source": []
  },
  {
   "cell_type": "code",
   "execution_count": 50,
   "id": "357237ea",
   "metadata": {},
   "outputs": [
    {
     "data": {
      "text/plain": [
       "str"
      ]
     },
     "execution_count": 50,
     "metadata": {},
     "output_type": "execute_result"
    }
   ],
   "source": [
    "type(clean_tweet)"
   ]
  },
  {
   "cell_type": "code",
   "execution_count": 45,
   "id": "0d10bd5c",
   "metadata": {},
   "outputs": [
    {
     "data": {
      "text/plain": [
       "'siemens when it comes to developing there s no time to waste how is helping company gsk speed up its processes backhand index pointing right siemens seenoevil monkey danke frs aufpassen und melden viele gre vom siemens comsteam siemens all the best siemens thank you for reaching out sounds like you have a request regarding household appliances that is not us but a different company with a very similar name siemens home please find your local contact at their website siemens is your business preparing for the future click to explore trends shaping the coming decade and benchmark your progress against other businesses find your path to with us siemens driven by strong goals the industry is at the forefront of exploring cleaner technologies to turn operations green seedling here s our approach to decarbonizing the data center industry pencil siemens peter lscher is a center for communicating with the public we have fans on its page siemens tomorrow marks the opening of the crystal stay tuned for more news siemens welcome to the official corporate twitter channel of your source for news on the company in the twittersphere no more data scraping will stop now found deleted tweets in this search rows x columns'"
      ]
     },
     "execution_count": 45,
     "metadata": {},
     "output_type": "execute_result"
    }
   ],
   "source": [
    "#Removing numbers and whitespace and convert to lowercase\n",
    "\n",
    "def clean_text(text):\n",
    "    # remove numbers\n",
    "    text_nonum = re.sub(r'\\d+', '', text)\n",
    "    # substitute multiple whitespace with single whitespace\n",
    "    # remove punctuations and convert characters to lower case\n",
    "    text_nopunct = \"\".join([char.lower() for char in text_nonum if char not in string.punctuation]) \n",
    "    # Also, removes leading and trailing whitespaces\n",
    "    text_no_doublespace = re.sub('\\s+', ' ', text_nopunct).strip()\n",
    "    return text_no_doublespace\n",
    "\n",
    "clean_tweets = clean_text(clean_tweets)\n",
    "\n",
    "\n",
    "clean_tweets"
   ]
  },
  {
   "cell_type": "code",
   "execution_count": null,
   "id": "e481a993",
   "metadata": {},
   "outputs": [],
   "source": []
  }
 ],
 "metadata": {
  "kernelspec": {
   "display_name": "Python 3 (ipykernel)",
   "language": "python",
   "name": "python3"
  },
  "language_info": {
   "codemirror_mode": {
    "name": "ipython",
    "version": 3
   },
   "file_extension": ".py",
   "mimetype": "text/x-python",
   "name": "python",
   "nbconvert_exporter": "python",
   "pygments_lexer": "ipython3",
   "version": "3.8.5"
  }
 },
 "nbformat": 4,
 "nbformat_minor": 5
}
